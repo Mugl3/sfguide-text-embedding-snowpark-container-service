{
 "cells": [
  {
   "cell_type": "markdown",
   "metadata": {},
   "source": [
    "# Dependencies and imports"
   ]
  },
  {
   "cell_type": "code",
   "execution_count": 1,
   "metadata": {},
   "outputs": [
    {
     "name": "stdout",
     "output_type": "stream",
     "text": [
      "Obtaining file:///Users/lmerrick/Code/sfguide-text-embedding-snowpark-container-service/libs/buildlib\n",
      "  Installing build dependencies ... \u001b[?25ldone\n",
      "\u001b[?25h  Checking if build backend supports build_editable ... \u001b[?25ldone\n",
      "\u001b[?25h  Getting requirements to build editable ... \u001b[?25ldone\n",
      "\u001b[?25h  Installing backend dependencies ... \u001b[?25ldone\n",
      "\u001b[?25h  Preparing editable metadata (pyproject.toml) ... \u001b[?25ldone\n",
      "\u001b[?25hRequirement already satisfied: build>=1.0 in /Users/lmerrick/miniconda3/envs/spcs-embedding/lib/python3.8/site-packages (1.0.3)\n",
      "Requirement already satisfied: torch>=2.0 in /Users/lmerrick/miniconda3/envs/spcs-embedding/lib/python3.8/site-packages (2.1.2)\n",
      "Requirement already satisfied: transformers in /Users/lmerrick/miniconda3/envs/spcs-embedding/lib/python3.8/site-packages (4.36.2)\n",
      "Requirement already satisfied: pytest in /Users/lmerrick/miniconda3/envs/spcs-embedding/lib/python3.8/site-packages (7.4.3)\n",
      "Requirement already satisfied: aiohttp in /Users/lmerrick/miniconda3/envs/spcs-embedding/lib/python3.8/site-packages (3.9.1)\n",
      "Requirement already satisfied: packaging>=19.0 in /Users/lmerrick/miniconda3/envs/spcs-embedding/lib/python3.8/site-packages (from build>=1.0) (23.2)\n",
      "Requirement already satisfied: pyproject_hooks in /Users/lmerrick/miniconda3/envs/spcs-embedding/lib/python3.8/site-packages (from build>=1.0) (1.0.0)\n",
      "Requirement already satisfied: importlib-metadata>=4.6 in /Users/lmerrick/miniconda3/envs/spcs-embedding/lib/python3.8/site-packages (from build>=1.0) (7.0.0)\n",
      "Requirement already satisfied: tomli>=1.1.0 in /Users/lmerrick/miniconda3/envs/spcs-embedding/lib/python3.8/site-packages (from build>=1.0) (2.0.1)\n",
      "Requirement already satisfied: filelock in /Users/lmerrick/miniconda3/envs/spcs-embedding/lib/python3.8/site-packages (from torch>=2.0) (3.13.1)\n",
      "Requirement already satisfied: typing-extensions in /Users/lmerrick/miniconda3/envs/spcs-embedding/lib/python3.8/site-packages (from torch>=2.0) (4.9.0)\n",
      "Requirement already satisfied: sympy in /Users/lmerrick/miniconda3/envs/spcs-embedding/lib/python3.8/site-packages (from torch>=2.0) (1.12)\n",
      "Requirement already satisfied: networkx in /Users/lmerrick/miniconda3/envs/spcs-embedding/lib/python3.8/site-packages (from torch>=2.0) (3.1)\n",
      "Requirement already satisfied: jinja2 in /Users/lmerrick/miniconda3/envs/spcs-embedding/lib/python3.8/site-packages (from torch>=2.0) (3.1.2)\n",
      "Requirement already satisfied: fsspec in /Users/lmerrick/miniconda3/envs/spcs-embedding/lib/python3.8/site-packages (from torch>=2.0) (2023.12.2)\n",
      "Requirement already satisfied: huggingface-hub<1.0,>=0.19.3 in /Users/lmerrick/miniconda3/envs/spcs-embedding/lib/python3.8/site-packages (from transformers) (0.19.4)\n",
      "Requirement already satisfied: numpy>=1.17 in /Users/lmerrick/miniconda3/envs/spcs-embedding/lib/python3.8/site-packages (from transformers) (1.24.2)\n",
      "Requirement already satisfied: pyyaml>=5.1 in /Users/lmerrick/miniconda3/envs/spcs-embedding/lib/python3.8/site-packages (from transformers) (6.0.1)\n",
      "Requirement already satisfied: regex!=2019.12.17 in /Users/lmerrick/miniconda3/envs/spcs-embedding/lib/python3.8/site-packages (from transformers) (2023.10.3)\n",
      "Requirement already satisfied: requests in /Users/lmerrick/miniconda3/envs/spcs-embedding/lib/python3.8/site-packages (from transformers) (2.31.0)\n",
      "Requirement already satisfied: tokenizers<0.19,>=0.14 in /Users/lmerrick/miniconda3/envs/spcs-embedding/lib/python3.8/site-packages (from transformers) (0.15.0)\n",
      "Requirement already satisfied: safetensors>=0.3.1 in /Users/lmerrick/miniconda3/envs/spcs-embedding/lib/python3.8/site-packages (from transformers) (0.4.1)\n",
      "Requirement already satisfied: tqdm>=4.27 in /Users/lmerrick/miniconda3/envs/spcs-embedding/lib/python3.8/site-packages (from transformers) (4.66.1)\n",
      "Requirement already satisfied: iniconfig in /Users/lmerrick/miniconda3/envs/spcs-embedding/lib/python3.8/site-packages (from pytest) (2.0.0)\n",
      "Requirement already satisfied: pluggy<2.0,>=0.12 in /Users/lmerrick/miniconda3/envs/spcs-embedding/lib/python3.8/site-packages (from pytest) (1.3.0)\n",
      "Requirement already satisfied: exceptiongroup>=1.0.0rc8 in /Users/lmerrick/miniconda3/envs/spcs-embedding/lib/python3.8/site-packages (from pytest) (1.2.0)\n",
      "Requirement already satisfied: attrs>=17.3.0 in /Users/lmerrick/miniconda3/envs/spcs-embedding/lib/python3.8/site-packages (from aiohttp) (23.1.0)\n",
      "Requirement already satisfied: multidict<7.0,>=4.5 in /Users/lmerrick/miniconda3/envs/spcs-embedding/lib/python3.8/site-packages (from aiohttp) (6.0.4)\n",
      "Requirement already satisfied: yarl<2.0,>=1.0 in /Users/lmerrick/miniconda3/envs/spcs-embedding/lib/python3.8/site-packages (from aiohttp) (1.9.4)\n",
      "Requirement already satisfied: frozenlist>=1.1.1 in /Users/lmerrick/miniconda3/envs/spcs-embedding/lib/python3.8/site-packages (from aiohttp) (1.4.1)\n",
      "Requirement already satisfied: aiosignal>=1.1.2 in /Users/lmerrick/miniconda3/envs/spcs-embedding/lib/python3.8/site-packages (from aiohttp) (1.3.1)\n",
      "Requirement already satisfied: async-timeout<5.0,>=4.0 in /Users/lmerrick/miniconda3/envs/spcs-embedding/lib/python3.8/site-packages (from aiohttp) (4.0.3)\n",
      "Requirement already satisfied: python-on-whales>=0.64 in /Users/lmerrick/miniconda3/envs/spcs-embedding/lib/python3.8/site-packages (from buildlib==1.0.0) (0.68.0)\n",
      "Requirement already satisfied: snowflake-connector-python>=3.2.1 in /Users/lmerrick/miniconda3/envs/spcs-embedding/lib/python3.8/site-packages (from snowflake-connector-python[pandas]>=3.2.1->buildlib==1.0.0) (3.6.0)\n",
      "Requirement already satisfied: zipp>=0.5 in /Users/lmerrick/miniconda3/envs/spcs-embedding/lib/python3.8/site-packages (from importlib-metadata>=4.6->build>=1.0) (3.17.0)\n",
      "Requirement already satisfied: pydantic!=2.0.*,<3,>=1.9 in /Users/lmerrick/miniconda3/envs/spcs-embedding/lib/python3.8/site-packages (from python-on-whales>=0.64->buildlib==1.0.0) (2.5.2)\n",
      "Requirement already satisfied: typer>=0.4.1 in /Users/lmerrick/miniconda3/envs/spcs-embedding/lib/python3.8/site-packages (from python-on-whales>=0.64->buildlib==1.0.0) (0.9.0)\n",
      "Requirement already satisfied: asn1crypto<2.0.0,>0.24.0 in /Users/lmerrick/miniconda3/envs/spcs-embedding/lib/python3.8/site-packages (from snowflake-connector-python>=3.2.1->snowflake-connector-python[pandas]>=3.2.1->buildlib==1.0.0) (1.5.1)\n",
      "Requirement already satisfied: cffi<2.0.0,>=1.9 in /Users/lmerrick/miniconda3/envs/spcs-embedding/lib/python3.8/site-packages (from snowflake-connector-python>=3.2.1->snowflake-connector-python[pandas]>=3.2.1->buildlib==1.0.0) (1.16.0)\n",
      "Requirement already satisfied: cryptography<42.0.0,>=3.1.0 in /Users/lmerrick/miniconda3/envs/spcs-embedding/lib/python3.8/site-packages (from snowflake-connector-python>=3.2.1->snowflake-connector-python[pandas]>=3.2.1->buildlib==1.0.0) (41.0.7)\n",
      "Requirement already satisfied: pyOpenSSL<24.0.0,>=16.2.0 in /Users/lmerrick/miniconda3/envs/spcs-embedding/lib/python3.8/site-packages (from snowflake-connector-python>=3.2.1->snowflake-connector-python[pandas]>=3.2.1->buildlib==1.0.0) (23.3.0)\n",
      "Requirement already satisfied: pyjwt<3.0.0 in /Users/lmerrick/miniconda3/envs/spcs-embedding/lib/python3.8/site-packages (from snowflake-connector-python>=3.2.1->snowflake-connector-python[pandas]>=3.2.1->buildlib==1.0.0) (2.8.0)\n",
      "Requirement already satisfied: pytz in /Users/lmerrick/miniconda3/envs/spcs-embedding/lib/python3.8/site-packages (from snowflake-connector-python>=3.2.1->snowflake-connector-python[pandas]>=3.2.1->buildlib==1.0.0) (2023.3.post1)\n",
      "Requirement already satisfied: charset-normalizer<4,>=2 in /Users/lmerrick/miniconda3/envs/spcs-embedding/lib/python3.8/site-packages (from snowflake-connector-python>=3.2.1->snowflake-connector-python[pandas]>=3.2.1->buildlib==1.0.0) (3.3.2)\n",
      "Requirement already satisfied: idna<4,>=2.5 in /Users/lmerrick/miniconda3/envs/spcs-embedding/lib/python3.8/site-packages (from snowflake-connector-python>=3.2.1->snowflake-connector-python[pandas]>=3.2.1->buildlib==1.0.0) (3.6)\n",
      "Requirement already satisfied: certifi>=2017.4.17 in /Users/lmerrick/miniconda3/envs/spcs-embedding/lib/python3.8/site-packages (from snowflake-connector-python>=3.2.1->snowflake-connector-python[pandas]>=3.2.1->buildlib==1.0.0) (2023.11.17)\n",
      "Requirement already satisfied: sortedcontainers>=2.4.0 in /Users/lmerrick/miniconda3/envs/spcs-embedding/lib/python3.8/site-packages (from snowflake-connector-python>=3.2.1->snowflake-connector-python[pandas]>=3.2.1->buildlib==1.0.0) (2.4.0)\n",
      "Requirement already satisfied: platformdirs<4.0.0,>=2.6.0 in /Users/lmerrick/miniconda3/envs/spcs-embedding/lib/python3.8/site-packages (from snowflake-connector-python>=3.2.1->snowflake-connector-python[pandas]>=3.2.1->buildlib==1.0.0) (3.11.0)\n",
      "Requirement already satisfied: tomlkit in /Users/lmerrick/miniconda3/envs/spcs-embedding/lib/python3.8/site-packages (from snowflake-connector-python>=3.2.1->snowflake-connector-python[pandas]>=3.2.1->buildlib==1.0.0) (0.12.3)\n",
      "Requirement already satisfied: urllib3<2.0.0,>=1.21.1 in /Users/lmerrick/miniconda3/envs/spcs-embedding/lib/python3.8/site-packages (from snowflake-connector-python>=3.2.1->snowflake-connector-python[pandas]>=3.2.1->buildlib==1.0.0) (1.26.18)\n",
      "Requirement already satisfied: pandas<2.2.0,>=1.0.0 in /Users/lmerrick/miniconda3/envs/spcs-embedding/lib/python3.8/site-packages (from snowflake-connector-python[pandas]>=3.2.1->buildlib==1.0.0) (2.0.3)\n",
      "Requirement already satisfied: pyarrow in /Users/lmerrick/miniconda3/envs/spcs-embedding/lib/python3.8/site-packages (from snowflake-connector-python[pandas]>=3.2.1->buildlib==1.0.0) (14.0.2)\n",
      "Requirement already satisfied: MarkupSafe>=2.0 in /Users/lmerrick/miniconda3/envs/spcs-embedding/lib/python3.8/site-packages (from jinja2->torch>=2.0) (2.1.3)\n",
      "Requirement already satisfied: mpmath>=0.19 in /Users/lmerrick/miniconda3/envs/spcs-embedding/lib/python3.8/site-packages (from sympy->torch>=2.0) (1.3.0)\n",
      "Requirement already satisfied: pycparser in /Users/lmerrick/miniconda3/envs/spcs-embedding/lib/python3.8/site-packages (from cffi<2.0.0,>=1.9->snowflake-connector-python>=3.2.1->snowflake-connector-python[pandas]>=3.2.1->buildlib==1.0.0) (2.21)\n",
      "Requirement already satisfied: python-dateutil>=2.8.2 in /Users/lmerrick/miniconda3/envs/spcs-embedding/lib/python3.8/site-packages (from pandas<2.2.0,>=1.0.0->snowflake-connector-python[pandas]>=3.2.1->buildlib==1.0.0) (2.8.2)\n",
      "Requirement already satisfied: tzdata>=2022.1 in /Users/lmerrick/miniconda3/envs/spcs-embedding/lib/python3.8/site-packages (from pandas<2.2.0,>=1.0.0->snowflake-connector-python[pandas]>=3.2.1->buildlib==1.0.0) (2023.3)\n",
      "Requirement already satisfied: annotated-types>=0.4.0 in /Users/lmerrick/miniconda3/envs/spcs-embedding/lib/python3.8/site-packages (from pydantic!=2.0.*,<3,>=1.9->python-on-whales>=0.64->buildlib==1.0.0) (0.6.0)\n",
      "Requirement already satisfied: pydantic-core==2.14.5 in /Users/lmerrick/miniconda3/envs/spcs-embedding/lib/python3.8/site-packages (from pydantic!=2.0.*,<3,>=1.9->python-on-whales>=0.64->buildlib==1.0.0) (2.14.5)\n",
      "Requirement already satisfied: click<9.0.0,>=7.1.1 in /Users/lmerrick/miniconda3/envs/spcs-embedding/lib/python3.8/site-packages (from typer>=0.4.1->python-on-whales>=0.64->buildlib==1.0.0) (8.1.7)\n",
      "Requirement already satisfied: six>=1.5 in /Users/lmerrick/miniconda3/envs/spcs-embedding/lib/python3.8/site-packages (from python-dateutil>=2.8.2->pandas<2.2.0,>=1.0.0->snowflake-connector-python[pandas]>=3.2.1->buildlib==1.0.0) (1.16.0)\n",
      "Building wheels for collected packages: buildlib\n",
      "  Building editable for buildlib (pyproject.toml) ... \u001b[?25ldone\n",
      "\u001b[?25h  Created wheel for buildlib: filename=buildlib-1.0.0-0.editable-py3-none-any.whl size=1443 sha256=0ec61e500de995828de40ca6e1e2350c07cd9738bb1d4f8eb6c0323ad344fd18\n",
      "  Stored in directory: /private/var/folders/_t/r3r35b_50cl44c_njstr2ykw0000gn/T/pip-ephem-wheel-cache-_0uiyjc_/wheels/98/aa/29/91c30cc69abfc62073290dcfac26d918a56b77f98bcd5394c7\n",
      "Successfully built buildlib\n",
      "Installing collected packages: buildlib\n",
      "  Attempting uninstall: buildlib\n",
      "    Found existing installation: buildlib 1.0.0\n",
      "    Uninstalling buildlib-1.0.0:\n",
      "      Successfully uninstalled buildlib-1.0.0\n",
      "Successfully installed buildlib-1.0.0\n",
      "Note: you may need to restart the kernel to use updated packages.\n"
     ]
    }
   ],
   "source": [
    "# Requirements.\n",
    "%pip install \"build>=1.0\" \"torch>=2.0\" \"transformers\" -e \"../../libs/buildlib\" \"pytest\" \"aiohttp\""
   ]
  },
  {
   "cell_type": "code",
   "execution_count": 2,
   "metadata": {},
   "outputs": [
    {
     "name": "stderr",
     "output_type": "stream",
     "text": [
      "/Users/lmerrick/miniconda3/envs/spcs-embedding/lib/python3.8/site-packages/tqdm/auto.py:21: TqdmWarning: IProgress not found. Please update jupyter and ipywidgets. See https://ipywidgets.readthedocs.io/en/stable/user_install.html\n",
      "  from .autonotebook import tqdm as notebook_tqdm\n"
     ]
    }
   ],
   "source": [
    "import shutil\n",
    "from pathlib import Path\n",
    "\n",
    "import buildlib\n",
    "import pytest\n",
    "from build import ProjectBuilder\n",
    "from transformers.models.bert.modeling_bert import BertModel\n",
    "from transformers.models.bert.tokenization_bert_fast import BertTokenizerFast\n"
   ]
  },
  {
   "cell_type": "markdown",
   "metadata": {},
   "source": [
    "# Introduction\n",
    "\n",
    "In order to create a custom text embedding service, we need to create a Docker image, push it to Snowflake, and tell Snowflake to deploy it. In addition to building, pushing, and deploying, this notebook will also cover how to test your Docker image locally to speed up the develoment cycle."
   ]
  },
  {
   "cell_type": "markdown",
   "metadata": {},
   "source": [
    "# Building\n",
    "\n",
    "In order to build an image for our custom service, we put custom data (a `data/` directory) and logic (an `embed.py`, plus a `requirements.txt` specifying any dependencies) into the `build/` directory, and then we use the `buildlib` to run the build process (`buildlib.build()`).\n",
    "\n",
    "## What is `buildlib`?\n",
    "\n",
    "`Buildlib` is a small Python package that hard-codes much of the boilerplate needed to deploy a text embedding service for you. On the Docker side, it uses the [python-on-whales](https://github.com/gabrieldemarmiesse/python-on-whales) package to provide easy-to-use Python functions that trigger Docker builds specifically for the text embedding service. On the Snowflake side, it uses plain f-string templating and the Snowflake Python connector to generate and run the SQL commands that set up your service in Snowflake. If you're ever curious about what a particular `buildlib` function is doing behind the scenes, don't be afraid to check out the source code -- it's not that complicated!"
   ]
  },
  {
   "cell_type": "markdown",
   "metadata": {},
   "source": [
    "## Clear out `build/`\n",
    "\n",
    "Let's start with a clean slate by deleting and recreating an empty `build/`."
   ]
  },
  {
   "cell_type": "code",
   "execution_count": 3,
   "metadata": {},
   "outputs": [],
   "source": [
    "BUILD_DIR = Path(\".\").resolve().parents[1] / \"build\"\n",
    "shutil.rmtree(BUILD_DIR, ignore_errors=True)\n",
    "BUILD_DIR.mkdir()"
   ]
  },
  {
   "cell_type": "markdown",
   "metadata": {},
   "source": [
    "## Prepare the data\n",
    "\n",
    "For this example, we will use the [`e5-base-v2`](https://huggingface.co/intfloat/e5-base-v2) model from Microsoft. We'll demonstrate how to preload the model weights directly into our Docker image for simpler deployment.\n",
    "\n",
    "Rather than just using the [`transformers`](https://pypi.org/project/transformers/) library directly, we'll also demonstrate how to include a custom library into the Docker image by building a [pure Python wheel](https://packaging.python.org/en/latest/guides/distributing-packages-using-setuptools/#pure-python-wheels) and including that in the `data/` alongside the model weights. The library we demonstrate on is `embed_lib/`, a small example library we wrote to call the E5 model via `transformers`."
   ]
  },
  {
   "cell_type": "markdown",
   "metadata": {},
   "source": [
    "### Put model weights into `build/data/`"
   ]
  },
  {
   "cell_type": "code",
   "execution_count": 4,
   "metadata": {},
   "outputs": [
    {
     "name": "stdout",
     "output_type": "stream",
     "text": [
      "Downloading intfloat/e5-base-v2 and saving tokenizer and weights to /Users/lmerrick/Code/sfguide-text-embedding-snowpark-container-service/build/data\n"
     ]
    }
   ],
   "source": [
    "# Downloading the model weights.\n",
    "MODEL_NAME = \"intfloat/e5-base-v2\"\n",
    "MODEL_EMBEDDING_DIM = 768\n",
    "DATA_DIR = BUILD_DIR / \"data\"\n",
    "TOKENISER_DIR = DATA_DIR / \"tokenizer\"\n",
    "MODEL_DIR = DATA_DIR / \"model\"\n",
    "\n",
    "print(f\"Downloading {MODEL_NAME} and saving tokenizer and weights to {DATA_DIR}\")\n",
    "\n",
    "tokenizer = BertTokenizerFast.from_pretrained(MODEL_NAME)\n",
    "model = BertModel.from_pretrained(MODEL_NAME)\n",
    "assert isinstance(model, BertModel)  # This is for typechecking.\n",
    "tokenizer.save_pretrained(TOKENISER_DIR)\n",
    "model.save_pretrained(MODEL_DIR)\n",
    "\n",
    "# Validate that our saved files work by loading from them.\n",
    "tokenizer = BertTokenizerFast.from_pretrained(TOKENISER_DIR)\n",
    "model = BertModel.from_pretrained(MODEL_DIR)"
   ]
  },
  {
   "cell_type": "markdown",
   "metadata": {},
   "source": [
    "### Put packaged code into `build/data/`"
   ]
  },
  {
   "cell_type": "code",
   "execution_count": 5,
   "metadata": {},
   "outputs": [
    {
     "name": "stdout",
     "output_type": "stream",
     "text": [
      "running bdist_wheel\n",
      "running build\n",
      "running build_py\n",
      "running egg_info\n",
      "writing src/embed_lib.egg-info/PKG-INFO\n",
      "writing dependency_links to src/embed_lib.egg-info/dependency_links.txt\n",
      "writing requirements to src/embed_lib.egg-info/requires.txt\n",
      "writing top-level names to src/embed_lib.egg-info/top_level.txt\n",
      "reading manifest file 'src/embed_lib.egg-info/SOURCES.txt'\n",
      "writing manifest file 'src/embed_lib.egg-info/SOURCES.txt'\n",
      "installing to build/bdist.macosx-11.1-arm64/wheel\n",
      "running install\n",
      "running install_lib\n",
      "creating build/bdist.macosx-11.1-arm64/wheel\n",
      "creating build/bdist.macosx-11.1-arm64/wheel/embed_lib\n",
      "copying build/lib/embed_lib/e5.py -> build/bdist.macosx-11.1-arm64/wheel/embed_lib\n",
      "copying build/lib/embed_lib/__init__.py -> build/bdist.macosx-11.1-arm64/wheel/embed_lib\n",
      "copying build/lib/embed_lib/_batch_iter_util.py -> build/bdist.macosx-11.1-arm64/wheel/embed_lib\n",
      "running install_egg_info\n",
      "Copying src/embed_lib.egg-info to build/bdist.macosx-11.1-arm64/wheel/embed_lib-1.0.0-py3.8.egg-info\n",
      "running install_scripts\n",
      "creating build/bdist.macosx-11.1-arm64/wheel/embed_lib-1.0.0.dist-info/WHEEL\n",
      "creating '/Users/lmerrick/Code/sfguide-text-embedding-snowpark-container-service/build/data/.tmp-54dkaqdq/embed_lib-1.0.0-py3-none-any.whl' and adding 'build/bdist.macosx-11.1-arm64/wheel' to it\n",
      "adding 'embed_lib/__init__.py'\n",
      "adding 'embed_lib/_batch_iter_util.py'\n",
      "adding 'embed_lib/e5.py'\n",
      "adding 'embed_lib-1.0.0.dist-info/METADATA'\n",
      "adding 'embed_lib-1.0.0.dist-info/WHEEL'\n",
      "adding 'embed_lib-1.0.0.dist-info/top_level.txt'\n",
      "adding 'embed_lib-1.0.0.dist-info/RECORD'\n",
      "removing build/bdist.macosx-11.1-arm64/wheel\n",
      "Built /Users/lmerrick/Code/sfguide-text-embedding-snowpark-container-service/build/data/embed_lib-1.0.0-py3-none-any.whl\n"
     ]
    }
   ],
   "source": [
    "# Package our Python package into a wheel in the `data/` directory.\n",
    "wheel_filename = ProjectBuilder(Path(\".\") / \"embed_lib\").build(\n",
    "    distribution=\"wheel\", output_directory=DATA_DIR\n",
    ")\n",
    "print(f\"Built {wheel_filename}\")"
   ]
  },
  {
   "cell_type": "markdown",
   "metadata": {},
   "source": [
    "## Prepare the logic\n",
    "\n",
    "In order to actually use our custom package, load our model weights, and perform text embedding, we need to implement the core logic of text embedding. This is done by implementing `get_embed_fn()` inside a file called `embed.py`. The function `get_embed_fn` should load model weights and return a function that maps a single input consisting of a `Sequence[str]` into a single 2d `numpy` array of datatype `np.float32`. Below we give an example."
   ]
  },
  {
   "cell_type": "markdown",
   "metadata": {},
   "source": [
    "### Implement `get_embed_fn` inside `build/embed.py`"
   ]
  },
  {
   "cell_type": "code",
   "execution_count": 6,
   "metadata": {},
   "outputs": [
    {
     "name": "stdout",
     "output_type": "stream",
     "text": [
      "Writing ../../build/embed.py\n"
     ]
    }
   ],
   "source": [
    "%%writefile ../../build/embed.py\n",
    "import logging\n",
    "import os\n",
    "from pathlib import Path\n",
    "from typing import Callable\n",
    "from typing import cast\n",
    "from typing import Sequence\n",
    "\n",
    "import embed_lib.e5\n",
    "import numpy as np\n",
    "from transformers.models.bert.modeling_bert import BertModel\n",
    "from transformers.models.bert.tokenization_bert_fast import BertTokenizerFast\n",
    "\n",
    "MAX_BATCH_SIZE = 4\n",
    "\n",
    "\n",
    "def get_embed_fn() -> Callable[[Sequence[str]], np.ndarray]:\n",
    "    # Load the model into memory.\n",
    "    logger = logging.getLogger(__name__)\n",
    "    data_dir = Path(os.environ[\"BUILD_ROOT\"]) / \"data\"\n",
    "    logger.info(\"[get_embed_fn]Loading model from disk to memory\")\n",
    "    e5_model = embed_lib.e5.load_e5_model(\n",
    "        tokenizer_path=data_dir / \"tokenizer\", model_path=data_dir / \"model\"\n",
    "    )\n",
    "\n",
    "    def embed(texts: Sequence[str]) -> np.ndarray:\n",
    "        result_tensor = embed_lib.e5.embed(\n",
    "            e5_model=e5_model,\n",
    "            texts=texts,\n",
    "            batch_size=MAX_BATCH_SIZE,\n",
    "            normalize=True,\n",
    "            progress_bar=False,\n",
    "        )\n",
    "        result_array = result_tensor.cpu().numpy().astype(np.float32)\n",
    "        return result_array\n",
    "\n",
    "    return embed"
   ]
  },
  {
   "cell_type": "markdown",
   "metadata": {},
   "source": [
    "### Add a `build/requirements.txt`\n",
    "\n",
    "We also need to specify the requirements for our embedding logic. During the build, we will populate the `BUILD_ROOT` environment variable, which enables you to include custom packages (like your `embed_lib` wheel) in your `requirements.txt` by absolute filepath."
   ]
  },
  {
   "cell_type": "code",
   "execution_count": 7,
   "metadata": {},
   "outputs": [
    {
     "name": "stdout",
     "output_type": "stream",
     "text": [
      "Writing ../../build/requirements.txt\n"
     ]
    }
   ],
   "source": [
    "%%writefile ../../build/requirements.txt\n",
    "\n",
    "${BUILD_ROOT}/data/embed_lib-1.0.0-py3-none-any.whl"
   ]
  },
  {
   "cell_type": "markdown",
   "metadata": {},
   "source": [
    "## Configure\n",
    "\n",
    "NOTE: We use f-string templating here to inject the value of the `MODEL_EMBEDDING_DIM` constant into the file. You can also use the same `%%writefile` magic as above, but in that case you must include the literal value (i.e. `768`) not the name of the constant, since in the file you're writing this constant is not defined."
   ]
  },
  {
   "cell_type": "code",
   "execution_count": 8,
   "metadata": {},
   "outputs": [
    {
     "data": {
      "text/plain": [
       "89"
      ]
     },
     "execution_count": 8,
     "metadata": {},
     "output_type": "execute_result"
    }
   ],
   "source": [
    "(BUILD_DIR / \"config.py\").write_text(\n",
    "f\"\"\"from service_config import Configuration\n",
    "\n",
    "USER_CONFIG = Configuration(embedding_dim={MODEL_EMBEDDING_DIM})\n",
    "\"\"\"\n",
    ")"
   ]
  },
  {
   "cell_type": "markdown",
   "metadata": {},
   "source": [
    "## Build!\n",
    "\n",
    "Now that all the pieces are in place inside `build/`, we can trigger a build via `buildlib`."
   ]
  },
  {
   "cell_type": "code",
   "execution_count": 9,
   "metadata": {},
   "outputs": [
    {
     "data": {
      "text/plain": [
       "[PosixPath('/Users/lmerrick/Code/sfguide-text-embedding-snowpark-container-service/build/config.py'),\n",
       " PosixPath('/Users/lmerrick/Code/sfguide-text-embedding-snowpark-container-service/build/embed.py'),\n",
       " PosixPath('/Users/lmerrick/Code/sfguide-text-embedding-snowpark-container-service/build/requirements.txt'),\n",
       " PosixPath('/Users/lmerrick/Code/sfguide-text-embedding-snowpark-container-service/build/data'),\n",
       " PosixPath('/Users/lmerrick/Code/sfguide-text-embedding-snowpark-container-service/build/data/tokenizer'),\n",
       " PosixPath('/Users/lmerrick/Code/sfguide-text-embedding-snowpark-container-service/build/data/model'),\n",
       " PosixPath('/Users/lmerrick/Code/sfguide-text-embedding-snowpark-container-service/build/data/embed_lib-1.0.0-py3-none-any.whl')]"
      ]
     },
     "execution_count": 9,
     "metadata": {},
     "output_type": "execute_result"
    }
   ],
   "source": [
    "# We now have all the pieces we need to build our service!\n",
    "list(BUILD_DIR.iterdir()) + list(DATA_DIR.iterdir())"
   ]
  },
  {
   "cell_type": "code",
   "execution_count": 10,
   "metadata": {},
   "outputs": [
    {
     "name": "stdout",
     "output_type": "stream",
     "text": [
      "#1 [internal] load build definition from Dockerfile\n",
      "#1 transferring dockerfile: 2.48kB done\n",
      "#1 DONE 0.0s\n",
      "\n",
      "#2 [internal] load .dockerignore\n",
      "#2 transferring context: 2B done\n",
      "#2 DONE 0.0s\n",
      "\n",
      "#3 [internal] load metadata for docker.io/nvidia/cuda:12.1.0-cudnn8-runtime-ubuntu22.04\n",
      "#3 DONE 1.4s\n",
      "\n",
      "#4 [ 1/14] FROM docker.io/nvidia/cuda:12.1.0-cudnn8-runtime-ubuntu22.04@sha256:f3a7fb39fa3ffbe54da713dd2e93063885e5be2f4586a705c39031b8284d379a\n",
      "#4 DONE 0.0s\n",
      "\n",
      "#5 [internal] load build context\n",
      "#5 transferring context: 439.13MB 2.5s done\n",
      "#5 DONE 2.5s\n",
      "\n",
      "#6 [ 3/14] RUN apt-get update && DEBIAN_FRONTEND=noninteractive apt-get install -y --no-install-recommends         curl &&     rm -rf /var/lib/apt/lists/*\n",
      "#6 CACHED\n",
      "\n",
      "#7 [ 4/14] RUN case linux/amd64 in          \"linux/arm64\")  MINICONDA_ARCH=aarch64  ;;          *)              MINICONDA_ARCH=x86_64   ;;     esac &&     curl -fsSL -v -o ~/miniconda.sh -O  \"https://repo.anaconda.com/miniconda/Miniconda3-latest-Linux-${MINICONDA_ARCH}.sh\"\n",
      "#7 CACHED\n",
      "\n",
      "#8 [ 2/14] WORKDIR /root\n",
      "#8 CACHED\n",
      "\n",
      "#9 [ 5/14] RUN chmod +x ~/miniconda.sh &&     bash ~/miniconda.sh -b -p /opt/conda &&     rm ~/miniconda.sh &&     /opt/conda/bin/conda install -y python=3.8 &&     /opt/conda/bin/conda clean -ya\n",
      "#9 CACHED\n",
      "\n",
      "#10 [ 6/14] COPY ./libs ./libs\n",
      "#10 DONE 0.2s\n",
      "\n",
      "#11 [ 7/14] COPY ./service_api ./service_api\n",
      "#11 DONE 0.0s\n",
      "\n",
      "#12 [ 8/14] COPY ./service_embed_loop ./service_embed_loop\n",
      "#12 DONE 0.0s\n",
      "\n",
      "#13 [ 9/14] COPY ./services_common_code ./services_common_code\n",
      "#13 DONE 0.0s\n",
      "\n",
      "#14 [10/14] RUN python -m venv --copies --prompt api create venv_api     && python -m venv --copies --prompt embed_loop create venv_embed_loop     && ./venv_api/bin/python -m pip install -r ./services_common_code/requirements.txt     && ./venv_api/bin/python -m pip install -r ./service_api/requirements.txt     && ./venv_embed_loop/bin/python -m pip install -r ./services_common_code/requirements.txt     && ./venv_embed_loop/bin/python -m pip install -r ./service_embed_loop/requirements.txt\n",
      "#14 43.12 Processing ./libs/lodis\n",
      "#14 43.13   Installing build dependencies: started\n",
      "#14 50.07   Installing build dependencies: finished with status 'done'\n",
      "#14 50.07   Getting requirements to build wheel: started\n",
      "#14 51.20   Getting requirements to build wheel: finished with status 'done'\n",
      "#14 51.21   Installing backend dependencies: started\n",
      "#14 54.18   Installing backend dependencies: finished with status 'done'\n",
      "#14 54.19   Preparing metadata (pyproject.toml): started\n",
      "#14 55.31   Preparing metadata (pyproject.toml): finished with status 'done'\n",
      "#14 55.35 Processing ./libs/multiprocess_logging\n",
      "#14 55.36   Installing build dependencies: started\n",
      "#14 61.08   Installing build dependencies: finished with status 'done'\n",
      "#14 61.08   Getting requirements to build wheel: started\n",
      "#14 62.20   Getting requirements to build wheel: finished with status 'done'\n",
      "#14 62.21   Installing backend dependencies: started\n",
      "#14 64.86   Installing backend dependencies: finished with status 'done'\n",
      "#14 64.87   Preparing metadata (pyproject.toml): started\n",
      "#14 66.07   Preparing metadata (pyproject.toml): finished with status 'done'\n",
      "#14 66.11 Processing ./libs/service_config\n",
      "#14 66.12   Installing build dependencies: started\n",
      "#14 72.06   Installing build dependencies: finished with status 'done'\n",
      "#14 72.06   Getting requirements to build wheel: started\n",
      "#14 73.10   Getting requirements to build wheel: finished with status 'done'\n",
      "#14 73.11   Installing backend dependencies: started\n",
      "#14 75.64   Installing backend dependencies: finished with status 'done'\n",
      "#14 75.65   Preparing metadata (pyproject.toml): started\n",
      "#14 76.75   Preparing metadata (pyproject.toml): finished with status 'done'\n",
      "#14 79.45 Collecting numpy==1.24.2\n",
      "#14 79.72   Downloading numpy-1.24.2-cp38-cp38-manylinux_2_17_x86_64.manylinux2014_x86_64.whl (17.3 MB)\n",
      "#14 80.88      ━━━━━━━━━━━━━━━━━━━━━━━━━━━━━━━━━━━━━━━━ 17.3/17.3 MB 15.2 MB/s eta 0:00:00\n",
      "#14 83.10 Collecting numba==0.57.0\n",
      "#14 83.13   Downloading numba-0.57.0-cp38-cp38-manylinux2014_x86_64.manylinux_2_17_x86_64.whl (3.6 MB)\n",
      "#14 83.35      ━━━━━━━━━━━━━━━━━━━━━━━━━━━━━━━━━━━━━━━━ 3.6/3.6 MB 16.6 MB/s eta 0:00:00\n",
      "#14 84.09 Collecting importlib-metadata\n",
      "#14 84.12   Downloading importlib_metadata-7.0.0-py3-none-any.whl (23 kB)\n",
      "#14 84.87 Collecting llvmlite<0.41,>=0.40.0dev0\n",
      "#14 84.92   Downloading llvmlite-0.40.1-cp38-cp38-manylinux_2_17_x86_64.manylinux2014_x86_64.whl (42.1 MB)\n",
      "#14 87.98      ━━━━━━━━━━━━━━━━━━━━━━━━━━━━━━━━━━━━━━━━ 42.1/42.1 MB 13.8 MB/s eta 0:00:00\n",
      "#14 90.44 Collecting zipp>=0.5\n",
      "#14 90.46   Downloading zipp-3.17.0-py3-none-any.whl (7.4 kB)\n",
      "#14 90.56 Building wheels for collected packages: lodis, multiprocess-logging, service-config\n",
      "#14 90.57   Building wheel for lodis (pyproject.toml): started\n",
      "#14 91.79   Building wheel for lodis (pyproject.toml): finished with status 'done'\n",
      "#14 91.79   Created wheel for lodis: filename=lodis-1.0.0-py3-none-any.whl size=14364 sha256=2c6e0c3074c595469947d9c8fa896b8528fb21942738d0dc3a7ed082096835f3\n",
      "#14 91.79   Stored in directory: /tmp/pip-ephem-wheel-cache-npvi_ucm/wheels/14/3f/a9/09eadfa05d0caafdbe7c5ca495f9973c8ccc73833b4f6cead7\n",
      "#14 91.80   Building wheel for multiprocess-logging (pyproject.toml): started\n",
      "#14 93.00   Building wheel for multiprocess-logging (pyproject.toml): finished with status 'done'\n",
      "#14 93.00   Created wheel for multiprocess-logging: filename=multiprocess_logging-1.0.0-py3-none-any.whl size=2557 sha256=1e75fb6e94c2e1700a7d93ae33a9a026286fc8d4ffb8b4b722c8052301a46716\n",
      "#14 93.00   Stored in directory: /tmp/pip-ephem-wheel-cache-npvi_ucm/wheels/8d/f5/2c/622c441705c4e18eb7414ad334509aa6d1e5311db4b9ead433\n",
      "#14 93.01   Building wheel for service-config (pyproject.toml): started\n",
      "#14 94.21   Building wheel for service-config (pyproject.toml): finished with status 'done'\n",
      "#14 94.21   Created wheel for service-config: filename=service_config-1.0.0-py3-none-any.whl size=2113 sha256=2613dd3b527eca2a4f14f42761ec75bcdc852dae1305cf751b2f6c508f52c2d1\n",
      "#14 94.21   Stored in directory: /tmp/pip-ephem-wheel-cache-npvi_ucm/wheels/c5/cf/fa/b89f44571f692d630007d9cb542b955b970a3eaf17c366f67a\n",
      "#14 94.22 Successfully built lodis multiprocess-logging service-config\n",
      "#14 94.64 Installing collected packages: zipp, service-config, numpy, llvmlite, importlib-metadata, numba, lodis, multiprocess-logging\n",
      "#14 109.5 Successfully installed importlib-metadata-7.0.0 llvmlite-0.40.1 lodis-1.0.0 multiprocess-logging-1.0.0 numba-0.57.0 numpy-1.24.2 service-config-1.0.0 zipp-3.17.0\n",
      "#14 109.5 \n",
      "#14 109.5 [notice] A new release of pip is available: 23.0.1 -> 23.3.2\n",
      "#14 109.5 [notice] To update, run: /root/venv_api/bin/python -m pip install --upgrade pip\n",
      "#14 111.3 Processing ./libs/simple_lru_cache\n",
      "#14 111.3   Installing build dependencies: started\n",
      "#14 117.4   Installing build dependencies: finished with status 'done'\n",
      "#14 117.4   Getting requirements to build wheel: started\n",
      "#14 118.5   Getting requirements to build wheel: finished with status 'done'\n",
      "#14 118.5   Installing backend dependencies: started\n",
      "#14 121.3   Installing backend dependencies: finished with status 'done'\n",
      "#14 121.3   Preparing metadata (pyproject.toml): started\n",
      "#14 122.4   Preparing metadata (pyproject.toml): finished with status 'done'\n",
      "#14 123.0 Collecting anyio==3.6.2\n",
      "#14 123.2   Downloading anyio-3.6.2-py3-none-any.whl (80 kB)\n",
      "#14 123.3      ━━━━━━━━━━━━━━━━━━━━━━━━━━━━━━━━━━━━━━━━ 80.6/80.6 kB 1.2 MB/s eta 0:00:00\n",
      "#14 123.5 Collecting httpx==0.24.0\n",
      "#14 123.6   Downloading httpx-0.24.0-py3-none-any.whl (75 kB)\n",
      "#14 123.6      ━━━━━━━━━━━━━━━━━━━━━━━━━━━━━━━━━━━━━━━━ 75.3/75.3 kB 6.5 MB/s eta 0:00:00\n",
      "#14 123.8 Collecting starlette==0.26.1\n",
      "#14 123.9   Downloading starlette-0.26.1-py3-none-any.whl (66 kB)\n",
      "#14 123.9      ━━━━━━━━━━━━━━━━━━━━━━━━━━━━━━━━━━━━━━━━ 66.9/66.9 kB 8.7 MB/s eta 0:00:00\n",
      "#14 124.1 Collecting uvicorn==0.21.1\n",
      "#14 124.1   Downloading uvicorn-0.21.1-py3-none-any.whl (57 kB)\n",
      "#14 124.2      ━━━━━━━━━━━━━━━━━━━━━━━━━━━━━━━━━━━━━━━━ 57.8/57.8 kB 7.2 MB/s eta 0:00:00\n",
      "#14 124.3 Collecting sniffio>=1.1\n",
      "#14 124.4   Downloading sniffio-1.3.0-py3-none-any.whl (10 kB)\n",
      "#14 124.5 Collecting idna>=2.8\n",
      "#14 124.5   Downloading idna-3.6-py3-none-any.whl (61 kB)\n",
      "#14 124.5      ━━━━━━━━━━━━━━━━━━━━━━━━━━━━━━━━━━━━━━━━ 61.6/61.6 kB 7.7 MB/s eta 0:00:00\n",
      "#14 124.8 Collecting httpcore<0.18.0,>=0.15.0\n",
      "#14 124.8   Downloading httpcore-0.17.3-py3-none-any.whl (74 kB)\n",
      "#14 124.8      ━━━━━━━━━━━━━━━━━━━━━━━━━━━━━━━━━━━━━━━━ 74.5/74.5 kB 9.1 MB/s eta 0:00:00\n",
      "#14 125.0 Collecting certifi\n",
      "#14 125.0   Downloading certifi-2023.11.17-py3-none-any.whl (162 kB)\n",
      "#14 125.0      ━━━━━━━━━━━━━━━━━━━━━━━━━━━━━━━━━━━━━━ 162.5/162.5 kB 10.1 MB/s eta 0:00:00\n",
      "#14 125.2 Collecting typing-extensions>=3.10.0\n",
      "#14 125.2   Downloading typing_extensions-4.9.0-py3-none-any.whl (32 kB)\n",
      "#14 125.4 Collecting h11>=0.8\n",
      "#14 125.4   Downloading h11-0.14.0-py3-none-any.whl (58 kB)\n",
      "#14 125.4      ━━━━━━━━━━━━━━━━━━━━━━━━━━━━━━━━━━━━━━━━ 58.3/58.3 kB 7.5 MB/s eta 0:00:00\n",
      "#14 125.6 Collecting click>=7.0\n",
      "#14 125.6   Downloading click-8.1.7-py3-none-any.whl (97 kB)\n",
      "#14 125.6      ━━━━━━━━━━━━━━━━━━━━━━━━━━━━━━━━━━━━━━━━ 97.9/97.9 kB 10.8 MB/s eta 0:00:00\n",
      "#14 125.8 Building wheels for collected packages: simple-lru-cache\n",
      "#14 125.8   Building wheel for simple-lru-cache (pyproject.toml): started\n",
      "#14 127.1   Building wheel for simple-lru-cache (pyproject.toml): finished with status 'done'\n",
      "#14 127.1   Created wheel for simple-lru-cache: filename=simple_lru_cache-1.0.0-py3-none-any.whl size=3063 sha256=6400b88c03b4c2427daa24c99980f0d4e89a4526e34cec856064477761867bd4\n",
      "#14 127.1   Stored in directory: /tmp/pip-ephem-wheel-cache-i1ey06st/wheels/a7/84/88/a03b5c4843a2cf5f4d3d80a62adb4f3c3d6c92528560c6988b\n",
      "#14 127.1 Successfully built simple-lru-cache\n",
      "#14 127.7 Installing collected packages: typing-extensions, sniffio, simple-lru-cache, idna, h11, click, certifi, uvicorn, anyio, starlette, httpcore, httpx\n",
      "#14 129.5 Successfully installed anyio-3.6.2 certifi-2023.11.17 click-8.1.7 h11-0.14.0 httpcore-0.17.3 httpx-0.24.0 idna-3.6 simple-lru-cache-1.0.0 sniffio-1.3.0 starlette-0.26.1 typing-extensions-4.9.0 uvicorn-0.21.1\n",
      "#14 129.5 \n",
      "#14 129.5 [notice] A new release of pip is available: 23.0.1 -> 23.3.2\n",
      "#14 129.5 [notice] To update, run: /root/venv_api/bin/python -m pip install --upgrade pip\n",
      "#14 131.2 Processing ./libs/lodis\n",
      "#14 131.2   Installing build dependencies: started\n",
      "#14 137.5   Installing build dependencies: finished with status 'done'\n",
      "#14 137.5   Getting requirements to build wheel: started\n",
      "#14 138.6   Getting requirements to build wheel: finished with status 'done'\n",
      "#14 138.6   Installing backend dependencies: started\n",
      "#14 141.2   Installing backend dependencies: finished with status 'done'\n",
      "#14 141.2   Preparing metadata (pyproject.toml): started\n",
      "#14 142.4   Preparing metadata (pyproject.toml): finished with status 'done'\n",
      "#14 142.4 Processing ./libs/multiprocess_logging\n",
      "#14 142.4   Installing build dependencies: started\n",
      "#14 148.2   Installing build dependencies: finished with status 'done'\n",
      "#14 148.2   Getting requirements to build wheel: started\n",
      "#14 149.2   Getting requirements to build wheel: finished with status 'done'\n",
      "#14 149.2   Installing backend dependencies: started\n",
      "#14 151.7   Installing backend dependencies: finished with status 'done'\n",
      "#14 151.7   Preparing metadata (pyproject.toml): started\n",
      "#14 152.9   Preparing metadata (pyproject.toml): finished with status 'done'\n",
      "#14 152.9 Processing ./libs/service_config\n",
      "#14 152.9   Installing build dependencies: started\n",
      "#14 158.6   Installing build dependencies: finished with status 'done'\n",
      "#14 158.6   Getting requirements to build wheel: started\n",
      "#14 159.6   Getting requirements to build wheel: finished with status 'done'\n",
      "#14 159.6   Installing backend dependencies: started\n",
      "#14 162.2   Installing backend dependencies: finished with status 'done'\n",
      "#14 162.2   Preparing metadata (pyproject.toml): started\n",
      "#14 163.3   Preparing metadata (pyproject.toml): finished with status 'done'\n",
      "#14 166.0 Collecting numpy==1.24.2\n",
      "#14 166.1   Using cached numpy-1.24.2-cp38-cp38-manylinux_2_17_x86_64.manylinux2014_x86_64.whl (17.3 MB)\n",
      "#14 168.4 Collecting numba==0.57.0\n",
      "#14 168.4   Using cached numba-0.57.0-cp38-cp38-manylinux2014_x86_64.manylinux_2_17_x86_64.whl (3.6 MB)\n",
      "#14 169.1 Collecting importlib-metadata\n",
      "#14 169.1   Using cached importlib_metadata-7.0.0-py3-none-any.whl (23 kB)\n",
      "#14 169.9 Collecting llvmlite<0.41,>=0.40.0dev0\n",
      "#14 170.0   Using cached llvmlite-0.40.1-cp38-cp38-manylinux_2_17_x86_64.manylinux2014_x86_64.whl (42.1 MB)\n",
      "#14 172.8 Collecting zipp>=0.5\n",
      "#14 172.8   Using cached zipp-3.17.0-py3-none-any.whl (7.4 kB)\n",
      "#14 172.9 Building wheels for collected packages: lodis, multiprocess-logging, service-config\n",
      "#14 172.9   Building wheel for lodis (pyproject.toml): started\n",
      "#14 174.1   Building wheel for lodis (pyproject.toml): finished with status 'done'\n",
      "#14 174.1   Created wheel for lodis: filename=lodis-1.0.0-py3-none-any.whl size=14364 sha256=d5b0c2e0eaeb315252c91c4fdfc04a78d162d952ea2e89778705ed20c540c672\n",
      "#14 174.1   Stored in directory: /tmp/pip-ephem-wheel-cache-n_pjfl_y/wheels/14/3f/a9/09eadfa05d0caafdbe7c5ca495f9973c8ccc73833b4f6cead7\n",
      "#14 174.1   Building wheel for multiprocess-logging (pyproject.toml): started\n",
      "#14 175.3   Building wheel for multiprocess-logging (pyproject.toml): finished with status 'done'\n",
      "#14 175.3   Created wheel for multiprocess-logging: filename=multiprocess_logging-1.0.0-py3-none-any.whl size=2557 sha256=81037cc4ffa2d956fc9f1ebeec65d1cf4cb3b6037fc9bd94c75919e8d114d111\n",
      "#14 175.3   Stored in directory: /tmp/pip-ephem-wheel-cache-n_pjfl_y/wheels/8d/f5/2c/622c441705c4e18eb7414ad334509aa6d1e5311db4b9ead433\n",
      "#14 175.4   Building wheel for service-config (pyproject.toml): started\n",
      "#14 176.5   Building wheel for service-config (pyproject.toml): finished with status 'done'\n",
      "#14 176.5   Created wheel for service-config: filename=service_config-1.0.0-py3-none-any.whl size=2113 sha256=8a5ffaed263ae211f81a8fca6a90da063c29b12f4b0a42ef7bfb049d0a5695f0\n",
      "#14 176.5   Stored in directory: /tmp/pip-ephem-wheel-cache-n_pjfl_y/wheels/c5/cf/fa/b89f44571f692d630007d9cb542b955b970a3eaf17c366f67a\n",
      "#14 176.5 Successfully built lodis multiprocess-logging service-config\n",
      "#14 176.9 Installing collected packages: zipp, service-config, numpy, llvmlite, importlib-metadata, numba, lodis, multiprocess-logging\n",
      "#14 191.9 Successfully installed importlib-metadata-7.0.0 llvmlite-0.40.1 lodis-1.0.0 multiprocess-logging-1.0.0 numba-0.57.0 numpy-1.24.2 service-config-1.0.0 zipp-3.17.0\n",
      "#14 191.9 \n",
      "#14 191.9 [notice] A new release of pip is available: 23.0.1 -> 23.3.2\n",
      "#14 191.9 [notice] To update, run: /root/venv_embed_loop/bin/python -m pip install --upgrade pip\n",
      "#14 194.2 \n",
      "#14 194.2 [notice] A new release of pip is available: 23.0.1 -> 23.3.2\n",
      "#14 194.2 [notice] To update, run: /root/venv_embed_loop/bin/python -m pip install --upgrade pip\n",
      "#14 DONE 194.4s\n",
      "\n",
      "#15 [11/14] COPY ./build ./build\n",
      "#15 DONE 0.5s\n",
      "\n",
      "#16 [12/14] RUN     mv ./build/data ./data     && mv ./build/config.py ./services_common_code/config.py     && mv ./build/embed.py ./service_embed_loop/embed.py\n",
      "#16 DONE 0.6s\n",
      "\n",
      "#17 [13/14] RUN ./venv_embed_loop/bin/python -m pip install -r ./build/requirements.txt\n",
      "#17 1.683 Processing ./data/embed_lib-1.0.0-py3-none-any.whl\n",
      "#17 2.443 Collecting transformers==4.30.1\n",
      "#17 2.713   Downloading transformers-4.30.1-py3-none-any.whl (7.2 MB)\n",
      "#17 4.285      ━━━━━━━━━━━━━━━━━━━━━━━━━━━━━━━━━━━━━━━━ 7.2/7.2 MB 4.6 MB/s eta 0:00:00\n",
      "#17 5.232 Collecting torch==2.0.1\n",
      "#17 5.258   Downloading torch-2.0.1-cp38-cp38-manylinux1_x86_64.whl (619.9 MB)\n",
      "#17 65.08      ━━━━━━━━━━━━━━━━━━━━━━━━━━━━━━━━━━━━━━━ 619.9/619.9 MB 3.4 MB/s eta 0:00:00\n",
      "#17 97.16 Requirement already satisfied: numpy==1.24.2 in ./venv_embed_loop/lib/python3.8/site-packages (from embed-lib==1.0.0->-r ./build/requirements.txt (line 2)) (1.24.2)\n",
      "#17 97.62 Collecting tqdm==4.65.0\n",
      "#17 97.64   Downloading tqdm-4.65.0-py3-none-any.whl (77 kB)\n",
      "#17 97.66      ━━━━━━━━━━━━━━━━━━━━━━━━━━━━━━━━━━━━━━━━ 77.1/77.1 kB 9.6 MB/s eta 0:00:00\n",
      "#17 97.90 Collecting nvidia-cuda-runtime-cu11==11.7.99\n",
      "#17 97.93   Downloading nvidia_cuda_runtime_cu11-11.7.99-py3-none-manylinux1_x86_64.whl (849 kB)\n",
      "#17 98.01      ━━━━━━━━━━━━━━━━━━━━━━━━━━━━━━━━━━━━━━ 849.3/849.3 kB 12.3 MB/s eta 0:00:00\n",
      "#17 98.28 Collecting triton==2.0.0\n",
      "#17 98.31   Downloading triton-2.0.0-1-cp38-cp38-manylinux2014_x86_64.manylinux_2_17_x86_64.whl (63.2 MB)\n",
      "#17 103.2      ━━━━━━━━━━━━━━━━━━━━━━━━━━━━━━━━━━━━━━━━ 63.2/63.2 MB 12.0 MB/s eta 0:00:00\n",
      "#17 106.6 Collecting networkx\n",
      "#17 106.7   Downloading networkx-3.1-py3-none-any.whl (2.1 MB)\n",
      "#17 106.8      ━━━━━━━━━━━━━━━━━━━━━━━━━━━━━━━━━━━━━━━━ 2.1/2.1 MB 15.2 MB/s eta 0:00:00\n",
      "#17 107.0 Collecting nvidia-nccl-cu11==2.14.3\n",
      "#17 107.0   Downloading nvidia_nccl_cu11-2.14.3-py3-none-manylinux1_x86_64.whl (177.1 MB)\n",
      "#17 119.1      ━━━━━━━━━━━━━━━━━━━━━━━━━━━━━━━━━━━━━━━ 177.1/177.1 MB 5.8 MB/s eta 0:00:00\n",
      "#17 128.3 Collecting jinja2\n",
      "#17 128.3   Downloading Jinja2-3.1.2-py3-none-any.whl (133 kB)\n",
      "#17 128.3      ━━━━━━━━━━━━━━━━━━━━━━━━━━━━━━━━━━━━━━ 133.1/133.1 kB 11.4 MB/s eta 0:00:00\n",
      "#17 128.5 Collecting sympy\n",
      "#17 128.5   Downloading sympy-1.12-py3-none-any.whl (5.7 MB)\n",
      "#17 128.9      ━━━━━━━━━━━━━━━━━━━━━━━━━━━━━━━━━━━━━━━━ 5.7/5.7 MB 15.6 MB/s eta 0:00:00\n",
      "#17 129.3 Collecting nvidia-cublas-cu11==11.10.3.66\n",
      "#17 129.3   Downloading nvidia_cublas_cu11-11.10.3.66-py3-none-manylinux1_x86_64.whl (317.1 MB)\n",
      "#17 153.2      ━━━━━━━━━━━━━━━━━━━━━━━━━━━━━━━━━━━━━━━ 317.1/317.1 MB 6.4 MB/s eta 0:00:00\n",
      "#17 169.4 Collecting nvidia-cuda-nvrtc-cu11==11.7.99\n",
      "#17 169.5   Downloading nvidia_cuda_nvrtc_cu11-11.7.99-2-py3-none-manylinux1_x86_64.whl (21.0 MB)\n",
      "#17 170.8      ━━━━━━━━━━━━━━━━━━━━━━━━━━━━━━━━━━━━━━━━ 21.0/21.0 MB 15.1 MB/s eta 0:00:00\n",
      "#17 171.9 Collecting nvidia-cusolver-cu11==11.4.0.1\n",
      "#17 172.0   Downloading nvidia_cusolver_cu11-11.4.0.1-2-py3-none-manylinux1_x86_64.whl (102.6 MB)\n",
      "#17 181.0      ━━━━━━━━━━━━━━━━━━━━━━━━━━━━━━━━━━━━━━ 102.6/102.6 MB 10.0 MB/s eta 0:00:00\n",
      "#17 186.3 Collecting nvidia-cusparse-cu11==11.7.4.91\n",
      "#17 186.3   Downloading nvidia_cusparse_cu11-11.7.4.91-py3-none-manylinux1_x86_64.whl (173.2 MB)\n",
      "#17 200.4      ━━━━━━━━━━━━━━━━━━━━━━━━━━━━━━━━━━━━━━━ 173.2/173.2 MB 8.4 MB/s eta 0:00:00\n",
      "#17 209.3 Collecting nvidia-cufft-cu11==10.9.0.58\n",
      "#17 209.3   Downloading nvidia_cufft_cu11-10.9.0.58-py3-none-manylinux1_x86_64.whl (168.4 MB)\n",
      "#17 223.9      ━━━━━━━━━━━━━━━━━━━━━━━━━━━━━━━━━━━━━━━ 168.4/168.4 MB 7.7 MB/s eta 0:00:00\n",
      "#17 232.5 Collecting nvidia-cudnn-cu11==8.5.0.96\n",
      "#17 232.5   Downloading nvidia_cudnn_cu11-8.5.0.96-2-py3-none-manylinux1_x86_64.whl (557.1 MB)\n",
      "#17 275.4      ━━━━━━━━━━━━━━━━━━━━━━━━━━━━━━━━━━━━━━━ 557.1/557.1 MB 3.4 MB/s eta 0:00:00\n",
      "#17 303.7 Collecting nvidia-curand-cu11==10.2.10.91\n",
      "#17 303.7   Downloading nvidia_curand_cu11-10.2.10.91-py3-none-manylinux1_x86_64.whl (54.6 MB)\n",
      "#17 307.4      ━━━━━━━━━━━━━━━━━━━━━━━━━━━━━━━━━━━━━━━━ 54.6/54.6 MB 12.3 MB/s eta 0:00:00\n",
      "#17 310.3 Collecting filelock\n",
      "#17 310.3   Downloading filelock-3.13.1-py3-none-any.whl (11 kB)\n",
      "#17 310.4 Collecting nvidia-nvtx-cu11==11.7.91\n",
      "#17 310.4   Downloading nvidia_nvtx_cu11-11.7.91-py3-none-manylinux1_x86_64.whl (98 kB)\n",
      "#17 310.5      ━━━━━━━━━━━━━━━━━━━━━━━━━━━━━━━━━━━━━━━━ 98.6/98.6 kB 11.5 MB/s eta 0:00:00\n",
      "#17 310.6 Collecting typing-extensions\n",
      "#17 310.6   Using cached typing_extensions-4.9.0-py3-none-any.whl (32 kB)\n",
      "#17 310.7 Collecting nvidia-cuda-cupti-cu11==11.7.101\n",
      "#17 310.7   Downloading nvidia_cuda_cupti_cu11-11.7.101-py3-none-manylinux1_x86_64.whl (11.8 MB)\n",
      "#17 311.5      ━━━━━━━━━━━━━━━━━━━━━━━━━━━━━━━━━━━━━━━━ 11.8/11.8 MB 13.8 MB/s eta 0:00:00\n",
      "#17 314.7 Collecting packaging>=20.0\n",
      "#17 314.7   Downloading packaging-23.2-py3-none-any.whl (53 kB)\n",
      "#17 314.8      ━━━━━━━━━━━━━━━━━━━━━━━━━━━━━━━━━━━━━━━━ 53.0/53.0 kB 7.3 MB/s eta 0:00:00\n",
      "#17 315.2 Collecting pyyaml>=5.1\n",
      "#17 315.2   Downloading PyYAML-6.0.1-cp38-cp38-manylinux_2_17_x86_64.manylinux2014_x86_64.whl (736 kB)\n",
      "#17 315.3      ━━━━━━━━━━━━━━━━━━━━━━━━━━━━━━━━━━━━━━ 736.6/736.6 kB 16.0 MB/s eta 0:00:00\n",
      "#17 320.0 Collecting regex!=2019.12.17\n",
      "#17 320.0   Downloading regex-2023.10.3-cp38-cp38-manylinux_2_17_x86_64.manylinux2014_x86_64.whl (776 kB)\n",
      "#17 320.1      ━━━━━━━━━━━━━━━━━━━━━━━━━━━━━━━━━━━━━━ 777.0/777.0 kB 14.4 MB/s eta 0:00:00\n",
      "#17 320.4 Collecting huggingface-hub<1.0,>=0.14.1\n",
      "#17 320.4   Downloading huggingface_hub-0.19.4-py3-none-any.whl (311 kB)\n",
      "#17 320.5      ━━━━━━━━━━━━━━━━━━━━━━━━━━━━━━━━━━━━━━ 311.7/311.7 kB 16.2 MB/s eta 0:00:00\n",
      "#17 320.8 Collecting requests\n",
      "#17 320.8   Downloading requests-2.31.0-py3-none-any.whl (62 kB)\n",
      "#17 320.8      ━━━━━━━━━━━━━━━━━━━━━━━━━━━━━━━━━━━━━━━━ 62.6/62.6 kB 8.2 MB/s eta 0:00:00\n",
      "#17 321.9 Collecting safetensors>=0.3.1\n",
      "#17 321.9   Downloading safetensors-0.4.1-cp38-cp38-manylinux_2_17_x86_64.manylinux2014_x86_64.whl (1.3 MB)\n",
      "#17 322.0      ━━━━━━━━━━━━━━━━━━━━━━━━━━━━━━━━━━━━━━━━ 1.3/1.3 MB 13.5 MB/s eta 0:00:00\n",
      "#17 324.2 Collecting tokenizers!=0.11.3,<0.14,>=0.11.1\n",
      "#17 324.2   Downloading tokenizers-0.13.3-cp38-cp38-manylinux_2_17_x86_64.manylinux2014_x86_64.whl (7.8 MB)\n",
      "#17 324.7      ━━━━━━━━━━━━━━━━━━━━━━━━━━━━━━━━━━━━━━━━ 7.8/7.8 MB 16.0 MB/s eta 0:00:00\n",
      "#17 325.1 Requirement already satisfied: setuptools in ./venv_embed_loop/lib/python3.8/site-packages (from nvidia-cublas-cu11==11.10.3.66->torch==2.0.1->embed-lib==1.0.0->-r ./build/requirements.txt (line 2)) (56.0.0)\n",
      "#17 325.3 Collecting wheel\n",
      "#17 325.3   Using cached wheel-0.42.0-py3-none-any.whl (65 kB)\n",
      "#17 326.9 Collecting cmake\n",
      "#17 326.9   Downloading cmake-3.28.1-py2.py3-none-manylinux2014_x86_64.manylinux_2_17_x86_64.whl (26.3 MB)\n",
      "#17 329.5      ━━━━━━━━━━━━━━━━━━━━━━━━━━━━━━━━━━━━━━━━ 26.3/26.3 MB 6.9 MB/s eta 0:00:00\n",
      "#17 331.1 Collecting lit\n",
      "#17 331.1   Downloading lit-17.0.6.tar.gz (153 kB)\n",
      "#17 331.1      ━━━━━━━━━━━━━━━━━━━━━━━━━━━━━━━━━━━━━━ 153.0/153.0 kB 13.9 MB/s eta 0:00:00\n",
      "#17 331.8   Installing build dependencies: started\n",
      "#17 337.6   Installing build dependencies: finished with status 'done'\n",
      "#17 337.6   Getting requirements to build wheel: started\n",
      "#17 338.5   Getting requirements to build wheel: finished with status 'done'\n",
      "#17 338.5   Installing backend dependencies: started\n",
      "#17 341.2   Installing backend dependencies: finished with status 'done'\n",
      "#17 341.2   Preparing metadata (pyproject.toml): started\n",
      "#17 342.2   Preparing metadata (pyproject.toml): finished with status 'done'\n",
      "#17 343.1 Collecting fsspec>=2023.5.0\n",
      "#17 343.1   Downloading fsspec-2023.12.2-py3-none-any.whl (168 kB)\n",
      "#17 343.2      ━━━━━━━━━━━━━━━━━━━━━━━━━━━━━━━━━━━━━━ 169.0/169.0 kB 14.0 MB/s eta 0:00:00\n",
      "#17 344.0 Collecting MarkupSafe>=2.0\n",
      "#17 344.1   Downloading MarkupSafe-2.1.3-cp38-cp38-manylinux_2_17_x86_64.manylinux2014_x86_64.whl (25 kB)\n",
      "#17 344.3 Collecting idna<4,>=2.5\n",
      "#17 344.3   Using cached idna-3.6-py3-none-any.whl (61 kB)\n",
      "#17 345.2 Collecting charset-normalizer<4,>=2\n",
      "#17 345.3   Downloading charset_normalizer-3.3.2-cp38-cp38-manylinux_2_17_x86_64.manylinux2014_x86_64.whl (141 kB)\n",
      "#17 345.3      ━━━━━━━━━━━━━━━━━━━━━━━━━━━━━━━━━━━━━━ 141.1/141.1 kB 13.5 MB/s eta 0:00:00\n",
      "#17 345.5 Collecting certifi>=2017.4.17\n",
      "#17 345.5   Using cached certifi-2023.11.17-py3-none-any.whl (162 kB)\n",
      "#17 345.8 Collecting urllib3<3,>=1.21.1\n",
      "#17 345.8   Downloading urllib3-2.1.0-py3-none-any.whl (104 kB)\n",
      "#17 345.8      ━━━━━━━━━━━━━━━━━━━━━━━━━━━━━━━━━━━━━━ 104.6/104.6 kB 11.7 MB/s eta 0:00:00\n",
      "#17 346.0 Collecting mpmath>=0.19\n",
      "#17 346.0   Downloading mpmath-1.3.0-py3-none-any.whl (536 kB)\n",
      "#17 346.0      ━━━━━━━━━━━━━━━━━━━━━━━━━━━━━━━━━━━━━━ 536.2/536.2 kB 14.3 MB/s eta 0:00:00\n",
      "#17 346.7 Building wheels for collected packages: lit\n",
      "#17 346.7   Building wheel for lit (pyproject.toml): started\n",
      "#17 347.9   Building wheel for lit (pyproject.toml): finished with status 'done'\n",
      "#17 347.9   Created wheel for lit: filename=lit-17.0.6-py3-none-any.whl size=93255 sha256=d3db771891222630aceef84946c1d19e3a269af0840b29889744ab5bfd7178da\n",
      "#17 347.9   Stored in directory: /root/.cache/pip/wheels/c0/1b/ae/c752907c50ad9673ab23730ee731ce853f2cf69b2d98019dcd\n",
      "#17 347.9 Successfully built lit\n",
      "#17 352.5 Installing collected packages: tokenizers, mpmath, lit, cmake, wheel, urllib3, typing-extensions, tqdm, sympy, safetensors, regex, pyyaml, packaging, nvidia-nccl-cu11, nvidia-cufft-cu11, nvidia-cuda-nvrtc-cu11, networkx, MarkupSafe, idna, fsspec, filelock, charset-normalizer, certifi, requests, nvidia-nvtx-cu11, nvidia-cusparse-cu11, nvidia-curand-cu11, nvidia-cuda-runtime-cu11, nvidia-cuda-cupti-cu11, nvidia-cublas-cu11, jinja2, nvidia-cusolver-cu11, nvidia-cudnn-cu11, huggingface-hub, transformers, triton, torch, embed-lib\n",
      "#17 463.0 Successfully installed MarkupSafe-2.1.3 certifi-2023.11.17 charset-normalizer-3.3.2 cmake-3.28.1 embed-lib-1.0.0 filelock-3.13.1 fsspec-2023.12.2 huggingface-hub-0.19.4 idna-3.6 jinja2-3.1.2 lit-17.0.6 mpmath-1.3.0 networkx-3.1 nvidia-cublas-cu11-11.10.3.66 nvidia-cuda-cupti-cu11-11.7.101 nvidia-cuda-nvrtc-cu11-11.7.99 nvidia-cuda-runtime-cu11-11.7.99 nvidia-cudnn-cu11-8.5.0.96 nvidia-cufft-cu11-10.9.0.58 nvidia-curand-cu11-10.2.10.91 nvidia-cusolver-cu11-11.4.0.1 nvidia-cusparse-cu11-11.7.4.91 nvidia-nccl-cu11-2.14.3 nvidia-nvtx-cu11-11.7.91 packaging-23.2 pyyaml-6.0.1 regex-2023.10.3 requests-2.31.0 safetensors-0.4.1 sympy-1.12 tokenizers-0.13.3 torch-2.0.1 tqdm-4.65.0 transformers-4.30.1 triton-2.0.0 typing-extensions-4.9.0 urllib3-2.1.0 wheel-0.42.0\n",
      "#17 463.0 \n",
      "#17 463.0 [notice] A new release of pip is available: 23.0.1 -> 23.3.2\n",
      "#17 463.0 [notice] To update, run: /root/venv_embed_loop/bin/python -m pip install --upgrade pip\n",
      "#17 DONE 464.7s\n",
      "\n",
      "#18 [14/14] COPY ./build/embed.py ./service_embed_loop/embed.py\n",
      "#18 DONE 0.1s\n",
      "\n",
      "#19 exporting to image\n",
      "#19 exporting layers\n",
      "#19 exporting layers 10.3s done\n",
      "#19 writing image sha256:37cba013fd78622cada6689381d0e6e00e4ad9a193b42d8e448b748be8d2811d done\n",
      "#19 naming to docker.io/library/embed_text_service:latest done\n",
      "#19 DONE 10.3s\n"
     ]
    }
   ],
   "source": [
    "# If you are building on a Mac with an ARM CPU, building and running for AMD64 may\n",
    "# be quite slow due to CPU emulation (e.g. perf tests will look really slow).\n",
    "# To get around this, you can start by building asnd testing locally for ARM CPU\n",
    "# (However, since Snowpark container services uses AMD64 CPUs, you still need to do the AMD64 build before deploying!)\n",
    "# buildlib.build(build_dir=BUILD_DIR, platform=\"linux/arm64\", tag=\"arm_for_local_testing\")\n",
    "buildlib.build(build_dir=BUILD_DIR, platform=\"linux/amd64\", tag=\"latest\")"
   ]
  },
  {
   "cell_type": "markdown",
   "metadata": {},
   "source": [
    "# Test locally\n",
    "\n",
    "You can use `pytest` on the tests in `testing/tests` to get a quick check on whether the service is not working as expected."
   ]
  },
  {
   "cell_type": "code",
   "execution_count": 11,
   "metadata": {},
   "outputs": [
    {
     "name": "stdout",
     "output_type": "stream",
     "text": [
      "\u001b[1m============================= test session starts ==============================\u001b[0m\n",
      "platform darwin -- Python 3.8.18, pytest-7.4.3, pluggy-1.3.0\n",
      "rootdir: /Users/lmerrick/Code/sfguide-text-embedding-snowpark-container-service\n",
      "collected 1 item\n",
      "\n",
      "../../testing/tests/test_end_to_end.py \u001b[32m.\u001b[0m\u001b[32m                                 [100%]\u001b[0m\n",
      "\n",
      "\u001b[32m============================== \u001b[32m\u001b[1m1 passed\u001b[0m\u001b[32m in 26.94s\u001b[0m\u001b[32m ==============================\u001b[0m\n"
     ]
    }
   ],
   "source": [
    "test_path = BUILD_DIR.parent / \"testing\" / \"tests\" / \"test_end_to_end.py\"\n",
    "# with buildlib.run_container_context(tag=\"arm_for_local_testing\"):\n",
    "with buildlib.run_container_context():\n",
    "    pytest.main([str(test_path)])"
   ]
  },
  {
   "cell_type": "markdown",
   "metadata": {},
   "source": [
    "## Performance testing\n",
    "\n",
    "You can use the performance testing scripts to see how your configuration works. Keep in mind that [Snowflake has a 30 second timeout](https://docs.snowflake.com/en/sql-reference/external-functions-implementation) that can be triggered if too many big simultaneous requests bog down the service. Setting small batch sizes and a small internal queue size will help mitigate timeout issues. The default values are conservative (good for running medium-sized models on CPU), but you may want to try different parameters (by supplying more keyword arguments in the `config.py` file above), especially if you will be using a large CPU instance type or a GPU instance type in the compute pool that runs your service. "
   ]
  },
  {
   "cell_type": "code",
   "execution_count": null,
   "metadata": {},
   "outputs": [],
   "source": [
    "# buildlib.start_locally(tag=\"arm_for_local_testing\")\n",
    "buildlib.start_locally()"
   ]
  },
  {
   "cell_type": "code",
   "execution_count": null,
   "metadata": {},
   "outputs": [],
   "source": [
    "# If `last_retry_time` exceeds 30 seconds for any query, that is equivalent to the\n",
    "# conditions in which you can expect a timeout error when serving in Snowflake.\n",
    "!python ../../testing/perf_test_scripts/checking_for_timeouts.py"
   ]
  },
  {
   "cell_type": "code",
   "execution_count": null,
   "metadata": {},
   "outputs": [],
   "source": [
    "buildlib.stop_locally()"
   ]
  },
  {
   "cell_type": "markdown",
   "metadata": {},
   "source": [
    "# Deploy\n",
    "\n",
    "Now that we have build our image and made sure it passes local tests, we can deploy our service."
   ]
  },
  {
   "cell_type": "code",
   "execution_count": 12,
   "metadata": {},
   "outputs": [],
   "source": [
    "from getpass import getpass\n",
    "from textwrap import dedent\n",
    "import snowflake.connector\n",
    "\n",
    "\n",
    "# Edit these parameters.\n",
    "connection_params = {\n",
    "    \"account\"   : input(\"Account: \"),\n",
    "    \"user\"      : input(\"Username: \"),\n",
    "}\n",
    "\n",
    "# Establish and configure connection.\n",
    "connection_params[\"password\"] = getpass(f\"Password:\")\n",
    "connection = snowflake.connector.connect(**connection_params)\n"
   ]
  },
  {
   "cell_type": "markdown",
   "metadata": {},
   "source": [
    "## Setup prerequisites\n",
    "\n",
    "To deploy a service, you need to have a compute pool, a database and schema, and an image repository already set up. You also need a role that you can assume which has the permissions necessary to set up the service. Below is an example setup script.\n",
    "\n",
    "**NOTE:** If you write your embedding code to exploit GPU acceleration, you may want to create a GPU pool. However, for lighweight models and low throughput use-cases (e.g. less than 10QPS of single-row embedding queries over short texts), you may get better price performance from a smaller CPU machine."
   ]
  },
  {
   "cell_type": "code",
   "execution_count": 13,
   "metadata": {},
   "outputs": [
    {
     "name": "stdout",
     "output_type": "stream",
     "text": [
      "use role accountadmin;\n",
      "-- create a compute pool\n",
      "create compute pool if not exists text_embed_gpu\n",
      "min_nodes = 1\n",
      "max_nodes = 1\n",
      "instance_family = gpu_3;\n",
      "-- create a new database and schema\n",
      "create or replace database custom_ml;\n",
      "create or replace schema ml;\n",
      "-- give yourself a new role to manage text embedding\n",
      "create or replace role embed_text_manager;\n",
      "grant all on database custom_ml to role embed_text_manager;\n",
      "grant all on schema custom_ml.ml to role embed_text_manager;\n",
      "grant usage on compute pool text_embed_gpu to role embed_text_manager;\n",
      "grant monitor on compute pool text_embed_gpu to role embed_text_manager;\n",
      "grant role embed_text_manager to user admin;\n",
      "-- use the new role to set up the image repo and service spec stage\n",
      "use role embed_text_manager;\n",
      "use database custom_ml;\n",
      "use schema ml;\n",
      "create or replace image repository image_repo;\n",
      "create or replace stage service_specs;\n"
     ]
    }
   ],
   "source": [
    "compute_pool = \"text_embed_gpu\"\n",
    "database = \"custom_ml\"\n",
    "schema = \"ml\"\n",
    "role = \"embed_text_manager\"\n",
    "image_repository = \"image_repo\"\n",
    "spec_stage = \"service_specs\"\n",
    "setup_sql_commands = dedent(\n",
    "    f\"\"\"\n",
    "    use role accountadmin;\n",
    "\n",
    "    -- create a compute pool\n",
    "    create compute pool if not exists {compute_pool}\n",
    "    min_nodes = 1\n",
    "    max_nodes = 1\n",
    "    instance_family = gpu_3;\n",
    "\n",
    "    -- create a new database and schema\n",
    "    create or replace database {database};\n",
    "    create or replace schema {schema};\n",
    "\n",
    "    -- give yourself a new role to manage text embedding\n",
    "    create or replace role {role};\n",
    "    grant all on database {database} to role {role};\n",
    "    grant all on schema {database}.{schema} to role {role};\n",
    "    grant usage on compute pool text_embed_gpu to role {role};\n",
    "    grant monitor on compute pool text_embed_gpu to role {role};\n",
    "    grant role embed_text_manager to user {connection_params[\"user\"]};\n",
    "\n",
    "    -- use the new role to set up the image repo and service spec stage\n",
    "    use role {role};\n",
    "    use database {database};\n",
    "    use schema {schema};\n",
    "    create or replace image repository {image_repository};\n",
    "    create or replace stage {spec_stage};\n",
    "    \"\"\"\n",
    ")\n",
    "buildlib._run_sql(connection, setup_sql_commands)"
   ]
  },
  {
   "cell_type": "markdown",
   "metadata": {},
   "source": [
    "## Push the image\n",
    "\n",
    "You can use the `buildlib.push` convenience function to push your image. If you're already logged into the image repository in Docker, you can omit the `username` and `password` arguments and pass `skip_login` instead."
   ]
  },
  {
   "cell_type": "code",
   "execution_count": 14,
   "metadata": {},
   "outputs": [
    {
     "name": "stdout",
     "output_type": "stream",
     "text": [
      "Login Succeeded\n",
      "Pushing <your_account>.registry.snowflakecomputing.com/custom_ml/ml/image_repo/embed_text_service:latest\n",
      "The push refers to repository [<your_account>.registry.snowflakecomputing.com/custom_ml/ml/image_repo/embed_text_service]\n",
      "5b448d301bf1: Preparing\n",
      "1f97fdba8910: Preparing\n",
      "198ee069a852: Preparing\n",
      "c48904559ad4: Preparing\n",
      "f4724c52227c: Preparing\n",
      "6e716c10ddae: Preparing\n",
      "51084bf0cad3: Preparing\n",
      "7d123e6b7f6d: Preparing\n",
      "bc51bc5bba77: Preparing\n",
      "07d57957db0f: Preparing\n",
      "7cb7ebd732dc: Preparing\n",
      "fc4161923a73: Preparing\n",
      "5f70bf18a086: Preparing\n",
      "30cb8a64ad61: Preparing\n",
      "600c676771a0: Preparing\n",
      "6ac15100dff6: Preparing\n",
      "40f0eb1871b9: Preparing\n",
      "8d113b7b997c: Preparing\n",
      "cd77f58b80cd: Preparing\n",
      "e4b1bddcbe63: Preparing\n",
      "765423415d69: Preparing\n",
      "7b9433fba79b: Preparing\n",
      "256d88da4185: Preparing\n",
      "6e716c10ddae: Waiting\n",
      "51084bf0cad3: Waiting\n",
      "7d123e6b7f6d: Waiting\n",
      "bc51bc5bba77: Waiting\n",
      "07d57957db0f: Waiting\n",
      "7cb7ebd732dc: Waiting\n",
      "fc4161923a73: Waiting\n",
      "5f70bf18a086: Waiting\n",
      "30cb8a64ad61: Waiting\n",
      "600c676771a0: Waiting\n",
      "6ac15100dff6: Waiting\n",
      "40f0eb1871b9: Waiting\n",
      "8d113b7b997c: Waiting\n",
      "cd77f58b80cd: Waiting\n",
      "e4b1bddcbe63: Waiting\n",
      "765423415d69: Waiting\n",
      "7b9433fba79b: Waiting\n",
      "256d88da4185: Waiting\n",
      "5b448d301bf1: Pushed\n",
      "6e716c10ddae: Pushed\n",
      "51084bf0cad3: Pushed\n",
      "7d123e6b7f6d: Pushed\n",
      "bc51bc5bba77: Pushed\n",
      "07d57957db0f: Pushed\n",
      "c48904559ad4: Pushed\n",
      "198ee069a852: Pushed\n",
      "f4724c52227c: Pushed\n",
      "fc4161923a73: Pushed\n",
      "5f70bf18a086: Pushed\n",
      "600c676771a0: Pushed\n",
      "6ac15100dff6: Pushed\n",
      "40f0eb1871b9: Pushed\n",
      "cd77f58b80cd: Pushed\n",
      "e4b1bddcbe63: Pushed\n",
      "7cb7ebd732dc: Pushed\n",
      "7b9433fba79b: Pushed\n",
      "765423415d69: Pushed\n",
      "256d88da4185: Pushed\n",
      "30cb8a64ad61: Pushed\n",
      "8d113b7b997c: Pushed\n",
      "1f97fdba8910: Pushed\n",
      "latest: digest: sha256:b3fe69067b661a7239802a0acd07a8207a55d2fabf2d58b368e53e43d61c30da size: 5155\n"
     ]
    }
   ],
   "source": [
    "image_repository_url = (\n",
    "    f\"{connection_params['account']}.registry.snowflakecomputing.com/\"\n",
    "    f\"{database}/{schema}/{image_repository}\"\n",
    ")\n",
    "buildlib.push(\n",
    "    repo_url=image_repository_url,\n",
    "    username=connection_params[\"user\"],\n",
    "    password=connection_params[\"password\"],\n",
    "    tag=\"latest\",\n",
    "    skip_login=False,\n",
    ")"
   ]
  },
  {
   "cell_type": "markdown",
   "metadata": {},
   "source": [
    "## Create the service\n",
    "\n",
    "We're almost there! We've built our image and pushed it, now we just need to put together a service spec and run a `create service ...;` statement. Luckily, `buildlib.deploy_service` makes this quite straightforward."
   ]
  },
  {
   "cell_type": "code",
   "execution_count": 21,
   "metadata": {},
   "outputs": [
    {
     "name": "stdout",
     "output_type": "stream",
     "text": [
      "use role embed_text_manager;\n",
      "use database custom_ml;\n",
      "use schema ml;\n",
      "drop service if exists embed_text_service;\n",
      "create service embed_text_service\n",
      "            in compute pool text_embed_gpu\n",
      "            from specification\n",
      "$$\n",
      "spec:\n",
      "  containers:\n",
      "    - name: embed-text-service\n",
      "      image: /custom_ml/ml/image_repo/embed_text_service:latest\n",
      "      readinessProbe:\n",
      "        port: 8000\n",
      "        path: /healthcheck\n",
      "  endpoint:\n",
      "    - name: endpoint\n",
      "      port: 8000\n",
      "$$\n",
      "            min_instances = 1\n",
      "            max_instances = 1;\n",
      "create or replace function _embed_to_base64(input string)\n",
      "    returns string\n",
      "    service=embed_text_service!endpoint\n",
      "    max_batch_rows=4\n",
      "    as '/embed';\n",
      "create or replace function _unpack_binary_array(B binary)\n",
      "    returns array\n",
      "    language javascript\n",
      "    immutable\n",
      "    as\n",
      "    $$\n",
      "        return Array.from(new Float32Array(B.buffer));\n",
      "    $$;\n",
      "create or replace function embed_text(input string)\n",
      "    returns vector(float,768)\n",
      "    language SQL\n",
      "    as\n",
      "    $$_unpack_binary_array(to_binary(_embed_to_base64(input), 'BASE64'))::vector(float,768)$$;\n"
     ]
    }
   ],
   "source": [
    "buildlib.deploy_service(\n",
    "    connection,\n",
    "    embedding_dim=MODEL_EMBEDDING_DIM,\n",
    "    role=role,\n",
    "    database=database,\n",
    "    schema=schema,\n",
    "    spec_stage=spec_stage,\n",
    "    compute_pool=compute_pool,\n",
    "    image_repository=image_repository,\n",
    "    # If for some reason your image repository is in a different database/schema\n",
    "    # you can specify a separate database/schema, too. Buildlib expects the spec\n",
    "    # stage to be in the same database/schema as the service, though.\n",
    "    image_database=database,\n",
    "    image_schema=schema,\n",
    ")"
   ]
  },
  {
   "cell_type": "markdown",
   "metadata": {},
   "source": [
    "# Success!\n",
    "\n",
    "Text embedding should now be live! Here's an example of giving all users access to the `embed_text` function and calling this function via a preexisting warehouse called `compute_wh`."
   ]
  },
  {
   "cell_type": "code",
   "execution_count": 22,
   "metadata": {},
   "outputs": [
    {
     "name": "stdout",
     "output_type": "stream",
     "text": [
      "use role accountadmin;\n",
      "grant usage on database custom_ml to role public;\n",
      "grant usage on schema custom_ml.ml to role public;\n",
      "use role embed_text_manager;\n",
      "grant usage on function custom_ml.ml.embed_text(text) to role public;\n",
      "use role public;\n",
      "use warehouse compute_wh;\n",
      "[0.0032345226500183344, -0.008582688868045807, -0.03768758848309517, -0.0033185267820954323, 0.04481324926018715, -0.030270196497440338, 0.0320584662258625, 0.05281175300478935, -0.0010826907819136977, -0.018630225211381912, -0.024988124147057533, 0.04769056290388107, -0.0871417224407196, 0.01861651986837387, -0.031328506767749786, 0.006546445656567812, 0.02404147945344448, -0.008242245763540268, 0.03759678080677986, -0.020063815638422966, -0.048249490559101105, -0.05238137021660805, 0.049702055752277374, -0.008793222717940807, 0.005695972125977278, 0.011141031049191952, -0.00584846455603838, 0.001621723873540759, -0.04690508171916008, -0.037125710397958755, 0.015796320512890816, 0.03618099167943001, 0.058089498430490494, -0.051545172929763794, -0.07014218717813492, 0.0005390139995142817, -0.04565756022930145, 0.02375314198434353, -0.0619567334651947, -0.02124837227165699, -0.0002067837049253285, -0.002343679778277874, -0.028176922351121902, 0.0466085709631443, -0.04741370677947998, -0.037512123584747314, -0.054191961884498596, 0.08486740291118622, -0.012576128356158733, -0.019455155357718468, -0.03863482177257538, 0.07088786363601685, 0.047109950333833694, -0.033105190843343735, 0.0003178224724251777, 0.023767808452248573, -0.0008515831432305276, -0.019622886553406715, -0.02646765112876892, -0.039613474160432816, 0.045153792947530746, 0.020551908761262894, 0.04503386467695236, -0.005189739167690277, 0.005211594980210066, 0.050336215645074844, 0.012325561605393887, 0.0037238348741084337, -0.023086562752723694, -0.001354015665128827, -0.0006832118961028755, -0.010280584916472435, -0.06326333433389664, -0.040745899081230164, 0.02055475488305092, -0.055230531841516495, 0.01416665967553854, 0.04457322508096695, 0.013287351466715336, 0.03832096979022026, -0.05085969343781471, -0.03167141228914261, 0.049557581543922424, 0.03958049789071083, 0.028277797624468803, -0.05328754335641861, -0.010429122485220432, 0.018599389120936394, -0.01170026883482933, 0.03323521092534065, -0.04309884086251259, -0.05595756322145462, 0.05479603633284569, 0.03549439460039139, 0.08157896250486374, -0.033669643104076385, 0.0166255384683609, -0.03832731395959854, 0.007424059323966503, 0.02779293619096279, -0.041367270052433014, -0.05049926042556763, 0.0022699409164488316, 0.001399028580635786, -0.04372594133019447, -0.03726542368531227, -0.002047007903456688, -0.009532975032925606, -0.013490603305399418, 0.03848284110426903, -0.05837203189730644, -0.02285565808415413, -0.03691934049129486, -0.023567071184515953, -0.03387805074453354, 0.08061543107032776, 0.0664515569806099, -0.04075070470571518, -0.03341023251414299, -0.033587031066417694, 0.002855798229575157, 0.06657017767429352, 0.0378473699092865, 0.0578608475625515, 0.015719398856163025, 0.03066404163837433, -0.000583869987167418, 0.05222489312291145, -0.029279319569468498, -0.03846964240074158, 0.06144009903073311, 0.005566226784139872, 0.06415801495313644, -0.027037255465984344, 0.018845127895474434, -0.022558823227882385, -0.027215229347348213, -0.014767209067940712, 0.026407213881611824, -0.02217252366244793, 0.0015245863469317555, 0.0444488488137722, 0.02618248760700226, -0.025864621624350548, 0.03713410347700119, 0.010659763589501381, -0.029987642541527748, -0.024361442774534225, -0.07012069225311279, 0.010750245302915573, 0.015852434560656548, 0.019571343436837196, 0.0026935210917145014, -0.05732830613851547, -0.03501567617058754, 0.06276964396238327, 0.01212973240762949, -0.007055099122226238, -0.04212712496519089, 0.04088788479566574, 0.027721093967556953, 0.035093601793050766, 0.023027729243040085, 0.029177339747548103, -0.028177844360470772, -0.0024201173800975084, 0.05070502310991287, -0.026553576812148094, 0.034958209842443466, 0.04824128746986389, -0.011079768650233746, -0.042470917105674744, 0.01433488167822361, -0.029275916516780853, -0.04168820381164551, 0.03430692479014397, 0.03469151258468628, 0.007292545400559902, -0.02471907250583172, 0.009273621253669262, -0.058644719421863556, -0.02838757075369358, 0.03790779039263725, 0.015108181163668633, -0.06821542978286743, -0.030396057292819023, 0.046706560999155045, -0.04225948452949524, 0.019998662173748016, 0.0435805507004261, -0.058901093900203705, -0.049275171011686325, 0.03590879589319229, -0.022131778299808502, 0.050640784204006195, -0.016636641696095467, 0.0024766819551587105, 0.015218495391309261, 0.03451724350452423, 0.036928512156009674, 0.012820321135222912, 0.03076673485338688, -0.0038561702240258455, -0.049643486738204956, -0.05686972290277481, 0.00046987133100628853, 0.05245530977845192, -0.03919431194663048, 0.0044365073554217815, 0.02186303399503231, -0.054559338837862015, -0.017457418143749237, 0.03566373512148857, -0.033203836530447006, 0.019615082070231438, 0.0014804769307374954, 0.018833309412002563, -0.04133184999227524, -0.011444207280874252, 0.012654864229261875, 0.07148277759552002, -0.05683004483580589, -0.01714065670967102, 0.019863342866301537, 0.01110941544175148, 0.039698272943496704, 0.05614897608757019, -0.010002776980400085, 0.015647413209080696, -0.01417465042322874, -0.028145326301455498, -0.007342595141381025, 0.024026425555348396, -0.014593110419809818, -0.06728225201368332, 0.021900266408920288, 0.002927514724433422, -0.009278722107410431, 0.016198093071579933, -0.009345735423266888, -0.010159355588257313, 0.056339163333177567, -0.03567804768681526, 0.071872778236866, -0.031198034062981606, -0.047296103090047836, 0.0695156455039978, -0.020339155569672585, -0.006627731956541538, -0.03934546932578087, -0.031118376180529594, -0.02176128700375557, 0.056960735470056534, -0.025103839114308357, 0.03722744435071945, -0.04557521268725395, 0.005497618578374386, 0.03801810368895531, 0.048567939549684525, 0.02141113579273224, 0.008882482536137104, 0.01862216927111149, 0.018814003095030785, -0.05838032439351082, -0.03869788348674774, -0.03269840404391289, -0.03811541944742203, -0.027758998796343803, 0.056195445358753204, 0.024401698261499405, 0.029130563139915466, -0.0027934545651078224, 0.016204888001084328, -0.0010418572928756475, 0.02616018056869507, -0.053745999932289124, 0.04064912348985672, -0.008270461112260818, -0.013641622848808765, -0.02437000721693039, -0.04870697855949402, 0.07428893446922302, -0.046241097152233124, -0.05687537416815758, 0.022365959361195564, -0.06639114767313004, 0.046029411256313324, -0.03816964104771614, -0.04835290089249611, -0.04349196329712868, 0.02546767331659794, 0.03359172120690346, -0.05190596356987953, 0.004269460216164589, 0.030867328867316246, -0.03346428647637367, 0.027579184621572495, 0.01646118424832821, -0.016013260930776596, 0.021012602373957634, 0.019153954461216927, 0.04203108698129654, 0.04106784611940384, -0.015171253122389317, 0.02121725305914879, -0.033359088003635406, -0.0013787682401016355, -0.04950771853327751, -0.012635555118322372, 0.019843941554427147, -0.009990870952606201, -0.06825204193592072, 0.0302373506128788, -0.01644667237997055, 0.06724610924720764, 0.004126905929297209, -0.03738769143819809, -0.020609436556696892, -0.04760365933179855, -0.025757700204849243, -0.0062843807972967625, 0.025465888902544975, 0.04036807641386986, -0.012777946889400482, 0.015153754502534866, -0.032808199524879456, -0.03410070016980171, 0.041766516864299774, -0.05586257949471474, -0.022327611222863197, -0.03099115379154682, 0.04908888041973114, 0.03430207073688507, 0.041503291577100754, -0.010262468829751015, -0.013379639945924282, -0.04446552321314812, -0.020743347704410553, -0.039337366819381714, -0.040796149522066116, 0.016307763755321503, 0.03604891896247864, 0.012905851006507874, -0.04628904536366463, 0.04423370584845543, -0.04449472948908806, 0.003986358176916838, -0.05308370664715767, -0.042611729353666306, -0.008176921866834164, 0.015745051205158234, 0.022189108654856682, -0.004465125035494566, -0.01625129021704197, -0.004776086192578077, -0.03663872927427292, 0.006445444189012051, 0.027170779183506966, 0.012416488490998745, 0.001408325508236885, 0.029183123260736465, -0.020278960466384888, -0.019821498543024063, -0.02714376710355282, 0.034623220562934875, 0.03046128898859024, -0.054234784096479416, -0.03113628551363945, 0.013402532786130905, -0.027557838708162308, -0.04253640025854111, -0.06097198650240898, -0.009705759584903717, -0.06693266332149506, -0.05723828822374344, -0.02900879457592964, 0.05043555423617363, 0.029205026105046272, -0.038793809711933136, -0.00728961918503046, -0.035765402019023895, -0.13089902698993683, -0.03933069109916687, 0.006843132898211479, -0.044876258820295334, -0.02477441169321537, 0.006893851328641176, 9.682436939328909e-05, -0.008358391001820564, -0.01785842515528202, 0.020259667187929153, 0.05573529750108719, -0.01703064888715744, -0.05071257799863815, -0.02277521975338459, 0.0097712567076087, 0.001470175920985639, -0.007435200270265341, 0.017183836549520493, -0.03890335187315941, -0.04969513788819313, 0.05828689783811569, 0.06360910832881927, 0.04459454491734505, 0.015729792416095734, -0.005943031050264835, 0.06648282706737518, -0.012513560242950916, 0.04005103185772896, -0.03498644009232521, -0.03130026161670685, -0.014909369871020317, 0.08036655187606812, 0.015209762379527092, -0.0410444475710392, 0.01971440389752388, 0.09719105809926987, 0.029560895636677742, 0.036365121603012085, -0.017695927992463112, 0.010966731235384941, -0.02333451807498932, -0.012461673468351364, 0.005175784230232239, 0.01580161601305008, 0.0195147842168808, 0.0013392906403169036, 0.04690200835466385, -0.010049140080809593, 0.044740017503499985, -0.012857846915721893, -0.04734360799193382, -0.017477594316005707, 0.01881735399365425, -0.005513167008757591, -0.03673427551984787, 0.015563031658530235, -0.05654039606451988, -0.05023550987243652, -0.023327816277742386, 0.05825771018862724, 0.0037205142434686422, 0.04322054237127304, 0.026068029925227165, -0.004698317497968674, -0.03288070112466812, -0.0006141423946246505, -0.00406682351604104, 0.015828421339392662, 0.024925539270043373, 0.0031558102928102016, 0.02632897160947323, 0.011045771650969982, 0.04370417445898056, -0.000569540832657367, 0.023053159937262535, -0.04353491961956024, 0.012268828228116035, 0.025112679228186607, -0.021465523168444633, 0.034710079431533813, 0.008180929347872734, -0.05994775518774986, -0.04120698943734169, 0.07061207294464111, -0.0006185793317854404, -0.018035756424069405, -0.019309518858790398, 0.025842266157269478, -0.05027500167489052, -0.029379932209849358, -0.003283220576122403, 0.041233599185943604, 0.04234177991747856, -0.002194769447669387, -0.00032910428126342595, -0.025171823799610138, -0.011338750831782818, 0.05390893667936325, -0.010473874397575855, -0.033525869250297546, 0.012718196958303452, -0.042180970311164856, 0.01863374002277851, -0.01917625218629837, -0.04807485267519951, 0.04582732915878296, 0.05199813097715378, 0.024771887809038162, -0.04684281349182129, -0.03452790901064873, 0.03582969307899475, 0.06229330971837044, -0.03120367042720318, -0.0313701406121254, 0.001526118372566998, -0.031120004132390022, 0.03141586482524872, 0.0025303401052951813, 0.058789659291505814, 0.011459078639745712, 0.019526800140738487, -0.0521625354886055, -0.0936693623661995, 0.013486862182617188, 0.04046136140823364, -0.03372447192668915, 0.024362919852137566, -0.05691193789243698, -0.017129823565483093, -0.057193174958229065, 0.014819842763245106, 0.012524695135653019, -0.041704729199409485, 0.02921493537724018, -0.037963900715112686, -0.024937007576227188, 0.04219368100166321, -0.005726264324039221, -0.03718119487166405, -0.009065513499081135, 0.033567167818546295, -0.029287701472640038, -0.02860545925796032, 0.025082197040319443, 0.007790260016918182, 0.025682006031274796, -0.04405813664197922, -0.005773366894572973, -0.020133662968873978, -0.03161894530057907, -0.04334602132439613, -0.019111692905426025, 0.044376447796821594, -0.004489462357014418, -0.027953537181019783, 0.0153788011521101, -0.057056911289691925, 0.02673295885324478, -0.006364716216921806, 0.011107263155281544, 0.03653264418244362, 0.0032775504514575005, 0.0065335738472640514, -0.02430596575140953, 0.013155910186469555, 0.0025239535607397556, 0.059704266488552094, 0.06864219158887863, 0.021352089941501617, -0.04132134094834328, -0.03078114427626133, -0.031335704028606415, 0.05655848979949951, -0.01779785566031933, 0.0024879355914890766, -0.018485823646187782, 0.030314549803733826, -0.05388796329498291, -0.016392866149544716, -0.023004697635769844, -0.0339372418820858, -0.00551200658082962, -0.056203581392765045, -0.047881461679935455, 0.009285561740398407, -0.05088303983211517, -0.013384967111051083, -0.0024260401260107756, -0.0042208400554955006, -0.04695737734436989, 0.043125446885824203, 0.06281771510839462, 0.061710651963949203, -0.052879851311445236, -0.060776907950639725, 0.032764725387096405, 0.05984969809651375, 0.03164205327630043, -0.04841176047921181, 0.029257522895932198, 0.04184689000248909, 0.06389138102531433, 0.020849905908107758, -0.025509558618068695, -0.015177393332123756, 0.02919299341738224, -0.05399189889431, -0.01736360415816307, 0.05923077464103699, -0.0271011795848608, 0.017298206686973572, 0.0010923264781013131, -0.03623431921005249, 0.020924732089042664, 0.0031498372554779053, -0.03606891259551048, 0.031183959916234016, -0.0151267284527421, 0.05981266871094704, 0.02267119102180004, 0.04757571220397949, 0.025634342804551125, 0.02825053222477436, 0.013951255939900875, 0.05345403775572777, -0.07497473061084747, 0.017616694793105125, -0.041461508721113205, 0.05247747153043747, 0.04288849979639053, -0.025856003165245056, -0.02262910269200802, 0.03375958278775215, 0.007615399081259966, -0.031995296478271484, 0.01657368242740631, 0.00875641219317913, -0.018932299688458443, -0.011382747441530228, 0.02867519110441208, 0.015836354345083237, -0.028061747550964355, 0.0012489992659538984, 0.049315329641103745, -0.0842256173491478, 0.005384722258895636, 0.043935004621744156, 0.029645755887031555, -0.029467491433024406, 0.03013988956809044, 0.05814133957028389, 0.006047967821359634, 0.0029458291828632355, -0.06205747649073601, 0.018213467672467232, -0.02476506680250168, 0.04502879083156586, 0.05940726771950722, 0.034301064908504486, 0.022126752883195877, 0.02590090222656727, -0.0482998788356781, -0.011253356002271175, 0.027486661449074745, -0.03944992646574974, 0.023094864562153816, 0.049828607589006424, 0.0009145388612523675, 0.05179735645651817, -0.010680753737688065, 0.037200409919023514, 0.00658065639436245, 0.021777980029582977, 0.0375613272190094, -0.014196624048054218, 0.037954866886138916, 0.03396864980459213, 0.07082850486040115, -0.009579779580235481, -0.023607725277543068, -0.02712160348892212, 0.017317086458206177, 0.008034533821046352, 0.015288143418729305, 0.05484816059470177, -0.0061304946430027485, 0.008768098428845406, -0.04186195507645607, 0.0034304328728467226, 0.05513908341526985, 0.07759568095207214, 0.0002635133278090507, -0.01244963239878416, 0.044965676963329315, -0.016897205263376236, 0.019755931571125984, -0.018193231895565987, 0.004042865242809057, 0.036173395812511444, -0.014262593351304531, 0.06110892817378044, -0.008766613900661469, 0.012230981141328812, 0.06612987816333771, 0.0010183699196204543, -0.017167309299111366, 0.018279295414686203, 0.022911597043275833, -0.06132960692048073, -0.043122414499521255, -0.04395226761698723, 0.005956615321338177, -0.009181837551295757, 0.02629373036324978, -0.010127043351531029, -0.055282432585954666, -0.013871741481125355, -0.04846351221203804, -0.012579553760588169, 0.010278102941811085, -0.013752282597124577, -0.026071494445204735, -0.05300534516572952, 0.045372530817985535, 0.024095110595226288, 0.005562151316553354, 0.04883269593119621, 0.032444801181554794, 0.01713946834206581, -0.0029197672847658396, -0.022694436833262444, -0.025622772052884102, 0.0676799789071083, -0.0774032473564148, 0.03403904289007187, -0.05236019566655159, 0.07928460091352463, 0.039432674646377563, -0.03734730929136276, -0.05568151921033859, 0.02326097898185253, -0.0355149582028389, -0.0021399501711130142, 0.041215527802705765, 0.03484427183866501, 0.054224830120801926, -0.02700253389775753, -0.030971311032772064, -0.03219901770353317, -0.025969579815864563, 0.030777031555771828, -0.012837927788496017, 0.06525111198425293, 0.016723595559597015, 0.02658163756132126, -0.07447010278701782, 0.04154306277632713, -0.008134583942592144, 0.03383258357644081, -0.06039811670780182, 0.028016913682222366, 0.03929652273654938, -0.01849779672920704, -0.022800328209996223, 0.01882767118513584, 0.011827783659100533, -0.05652580410242081, 0.04781924560666084, 0.0462932251393795, 0.03512611240148544, 0.037589166313409805, -0.03843134269118309, -0.003940035123378038, -0.03729977086186409, -0.06414683163166046, -0.032100871205329895, 0.02482030540704727, 0.043810389935970306, -0.039291270077228546, 0.023994402959942818, -0.037749938666820526, 0.049016013741493225, 0.029084019362926483, -0.016428060829639435, -0.017010293900966644, 0.040466077625751495, 0.03543248400092125]\n"
     ]
    }
   ],
   "source": [
    "buildlib._run_sql(\n",
    "    connection,\n",
    "    \"use role accountadmin; \"\n",
    "    \"grant usage on database custom_ml to role public; \"\n",
    "    \"grant usage on schema custom_ml.ml to role public; \"\n",
    "    \"use role embed_text_manager; \"\n",
    "    \"grant usage on function custom_ml.ml.embed_text(text) to role public; \"\n",
    "    \"use role public; \"\n",
    "    \"use warehouse compute_wh;\"\n",
    ")\n",
    "print(connection.cursor().execute(\"select embed_text('hello world!');\").fetchone()[0])"
   ]
  },
  {
   "cell_type": "code",
   "execution_count": null,
   "metadata": {},
   "outputs": [],
   "source": []
  }
 ],
 "metadata": {
  "kernelspec": {
   "display_name": "embed-standalone",
   "language": "python",
   "name": "python3"
  },
  "language_info": {
   "codemirror_mode": {
    "name": "ipython",
    "version": 3
   },
   "file_extension": ".py",
   "mimetype": "text/x-python",
   "name": "python",
   "nbconvert_exporter": "python",
   "pygments_lexer": "ipython3",
   "version": "3.8.18"
  },
  "orig_nbformat": 4
 },
 "nbformat": 4,
 "nbformat_minor": 2
}
