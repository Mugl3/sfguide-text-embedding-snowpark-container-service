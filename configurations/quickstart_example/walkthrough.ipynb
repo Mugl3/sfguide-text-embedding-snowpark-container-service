{
 "cells": [
  {
   "cell_type": "markdown",
   "metadata": {},
   "source": [
    "# Dependencies and imports"
   ]
  },
  {
   "cell_type": "code",
   "execution_count": 1,
   "metadata": {},
   "outputs": [
    {
     "name": "stdout",
     "output_type": "stream",
     "text": [
      "Processing /home/lmerrick/Code/embed_text_container_service/libs/buildlib\n",
      "  Installing build dependencies ... \u001b[?25ldone\n",
      "\u001b[?25h  Getting requirements to build wheel ... \u001b[?25ldone\n",
      "\u001b[?25h  Installing backend dependencies ... \u001b[?25ldone\n",
      "\u001b[?25h  Preparing metadata (pyproject.toml) ... \u001b[?25ldone\n",
      "\u001b[?25hRequirement already satisfied: build>=1.0 in /home/lmerrick/miniconda3/envs/embed-standalone/lib/python3.8/site-packages (1.0.3)\n",
      "Requirement already satisfied: torch>=2.0 in /home/lmerrick/miniconda3/envs/embed-standalone/lib/python3.8/site-packages (2.0.1)\n",
      "Requirement already satisfied: transformers in /home/lmerrick/miniconda3/envs/embed-standalone/lib/python3.8/site-packages (4.33.3)\n",
      "Requirement already satisfied: pytest in /home/lmerrick/miniconda3/envs/embed-standalone/lib/python3.8/site-packages (7.4.2)\n",
      "Requirement already satisfied: packaging>=19.0 in /home/lmerrick/miniconda3/envs/embed-standalone/lib/python3.8/site-packages (from build>=1.0) (23.2)\n",
      "Requirement already satisfied: pyproject_hooks in /home/lmerrick/miniconda3/envs/embed-standalone/lib/python3.8/site-packages (from build>=1.0) (1.0.0)\n",
      "Requirement already satisfied: importlib-metadata>=4.6 in /home/lmerrick/miniconda3/envs/embed-standalone/lib/python3.8/site-packages (from build>=1.0) (6.8.0)\n",
      "Requirement already satisfied: tomli>=1.1.0 in /home/lmerrick/miniconda3/envs/embed-standalone/lib/python3.8/site-packages (from build>=1.0) (2.0.1)\n",
      "Requirement already satisfied: filelock in /home/lmerrick/miniconda3/envs/embed-standalone/lib/python3.8/site-packages (from torch>=2.0) (3.12.4)\n",
      "Requirement already satisfied: typing-extensions in /home/lmerrick/miniconda3/envs/embed-standalone/lib/python3.8/site-packages (from torch>=2.0) (4.8.0)\n",
      "Requirement already satisfied: sympy in /home/lmerrick/miniconda3/envs/embed-standalone/lib/python3.8/site-packages (from torch>=2.0) (1.12)\n",
      "Requirement already satisfied: networkx in /home/lmerrick/miniconda3/envs/embed-standalone/lib/python3.8/site-packages (from torch>=2.0) (3.1)\n",
      "Requirement already satisfied: jinja2 in /home/lmerrick/miniconda3/envs/embed-standalone/lib/python3.8/site-packages (from torch>=2.0) (3.1.2)\n",
      "Requirement already satisfied: huggingface-hub<1.0,>=0.15.1 in /home/lmerrick/miniconda3/envs/embed-standalone/lib/python3.8/site-packages (from transformers) (0.17.3)\n",
      "Requirement already satisfied: numpy>=1.17 in /home/lmerrick/miniconda3/envs/embed-standalone/lib/python3.8/site-packages (from transformers) (1.24.2)\n",
      "Requirement already satisfied: pyyaml>=5.1 in /home/lmerrick/miniconda3/envs/embed-standalone/lib/python3.8/site-packages (from transformers) (6.0.1)\n",
      "Requirement already satisfied: regex!=2019.12.17 in /home/lmerrick/miniconda3/envs/embed-standalone/lib/python3.8/site-packages (from transformers) (2023.8.8)\n",
      "Requirement already satisfied: requests in /home/lmerrick/miniconda3/envs/embed-standalone/lib/python3.8/site-packages (from transformers) (2.31.0)\n",
      "Requirement already satisfied: tokenizers!=0.11.3,<0.14,>=0.11.1 in /home/lmerrick/miniconda3/envs/embed-standalone/lib/python3.8/site-packages (from transformers) (0.13.3)\n",
      "Requirement already satisfied: safetensors>=0.3.1 in /home/lmerrick/miniconda3/envs/embed-standalone/lib/python3.8/site-packages (from transformers) (0.3.3)\n",
      "Requirement already satisfied: tqdm>=4.27 in /home/lmerrick/miniconda3/envs/embed-standalone/lib/python3.8/site-packages (from transformers) (4.66.1)\n",
      "Requirement already satisfied: python-on-whales>=0.64 in /home/lmerrick/miniconda3/envs/embed-standalone/lib/python3.8/site-packages (from buildlib==1.0.0) (0.65.0)\n",
      "Requirement already satisfied: iniconfig in /home/lmerrick/miniconda3/envs/embed-standalone/lib/python3.8/site-packages (from pytest) (2.0.0)\n",
      "Requirement already satisfied: pluggy<2.0,>=0.12 in /home/lmerrick/miniconda3/envs/embed-standalone/lib/python3.8/site-packages (from pytest) (1.3.0)\n",
      "Requirement already satisfied: exceptiongroup>=1.0.0rc8 in /home/lmerrick/miniconda3/envs/embed-standalone/lib/python3.8/site-packages (from pytest) (1.1.3)\n",
      "Requirement already satisfied: fsspec in /home/lmerrick/miniconda3/envs/embed-standalone/lib/python3.8/site-packages (from huggingface-hub<1.0,>=0.15.1->transformers) (2023.9.2)\n",
      "Requirement already satisfied: zipp>=0.5 in /home/lmerrick/miniconda3/envs/embed-standalone/lib/python3.8/site-packages (from importlib-metadata>=4.6->build>=1.0) (3.17.0)\n",
      "Requirement already satisfied: pydantic!=2.0.*,<3,>=1.5 in /home/lmerrick/miniconda3/envs/embed-standalone/lib/python3.8/site-packages (from python-on-whales>=0.64->buildlib==1.0.0) (2.4.2)\n",
      "Requirement already satisfied: typer>=0.4.1 in /home/lmerrick/miniconda3/envs/embed-standalone/lib/python3.8/site-packages (from python-on-whales>=0.64->buildlib==1.0.0) (0.9.0)\n",
      "Requirement already satisfied: MarkupSafe>=2.0 in /home/lmerrick/miniconda3/envs/embed-standalone/lib/python3.8/site-packages (from jinja2->torch>=2.0) (2.1.3)\n",
      "Requirement already satisfied: charset-normalizer<4,>=2 in /home/lmerrick/miniconda3/envs/embed-standalone/lib/python3.8/site-packages (from requests->transformers) (3.3.0)\n",
      "Requirement already satisfied: idna<4,>=2.5 in /home/lmerrick/miniconda3/envs/embed-standalone/lib/python3.8/site-packages (from requests->transformers) (3.4)\n",
      "Requirement already satisfied: urllib3<3,>=1.21.1 in /home/lmerrick/miniconda3/envs/embed-standalone/lib/python3.8/site-packages (from requests->transformers) (2.0.6)\n",
      "Requirement already satisfied: certifi>=2017.4.17 in /home/lmerrick/miniconda3/envs/embed-standalone/lib/python3.8/site-packages (from requests->transformers) (2023.7.22)\n",
      "Requirement already satisfied: mpmath>=0.19 in /home/lmerrick/miniconda3/envs/embed-standalone/lib/python3.8/site-packages (from sympy->torch>=2.0) (1.3.0)\n",
      "Requirement already satisfied: annotated-types>=0.4.0 in /home/lmerrick/miniconda3/envs/embed-standalone/lib/python3.8/site-packages (from pydantic!=2.0.*,<3,>=1.5->python-on-whales>=0.64->buildlib==1.0.0) (0.5.0)\n",
      "Requirement already satisfied: pydantic-core==2.10.1 in /home/lmerrick/miniconda3/envs/embed-standalone/lib/python3.8/site-packages (from pydantic!=2.0.*,<3,>=1.5->python-on-whales>=0.64->buildlib==1.0.0) (2.10.1)\n",
      "Requirement already satisfied: click<9.0.0,>=7.1.1 in /home/lmerrick/miniconda3/envs/embed-standalone/lib/python3.8/site-packages (from typer>=0.4.1->python-on-whales>=0.64->buildlib==1.0.0) (8.1.7)\n",
      "Building wheels for collected packages: buildlib\n",
      "  Building wheel for buildlib (pyproject.toml) ... \u001b[?25ldone\n",
      "\u001b[?25h  Created wheel for buildlib: filename=buildlib-1.0.0-py3-none-any.whl size=2117 sha256=5b2702eb6b89aeed6ffd9d2f22cbdac1a21d736651598e8d961a2e1ec0f7c797\n",
      "  Stored in directory: /tmp/pip-ephem-wheel-cache-2upxhuv4/wheels/c5/f3/ea/faa799a07226ed5f08d2769708ad11b5735aa5e19906b6c1c9\n",
      "Successfully built buildlib\n",
      "Installing collected packages: buildlib\n",
      "  Attempting uninstall: buildlib\n",
      "    Found existing installation: buildlib 1.0.0\n",
      "    Uninstalling buildlib-1.0.0:\n",
      "      Successfully uninstalled buildlib-1.0.0\n",
      "Successfully installed buildlib-1.0.0\n",
      "Note: you may need to restart the kernel to use updated packages.\n"
     ]
    }
   ],
   "source": [
    "# Requirements.\n",
    "%pip install \"build>=1.0\" \"torch>=2.0\" \"transformers\" \"../../libs/buildlib\" \"pytest\""
   ]
  },
  {
   "cell_type": "code",
   "execution_count": 2,
   "metadata": {},
   "outputs": [
    {
     "name": "stderr",
     "output_type": "stream",
     "text": [
      "/home/lmerrick/miniconda3/envs/embed-standalone/lib/python3.8/site-packages/tqdm/auto.py:21: TqdmWarning: IProgress not found. Please update jupyter and ipywidgets. See https://ipywidgets.readthedocs.io/en/stable/user_install.html\n",
      "  from .autonotebook import tqdm as notebook_tqdm\n"
     ]
    }
   ],
   "source": [
    "import shutil\n",
    "from pathlib import Path\n",
    "\n",
    "import buildlib as buildlib\n",
    "import pytest\n",
    "from build import ProjectBuilder\n",
    "from transformers.models.bert.modeling_bert import BertModel\n",
    "from transformers.models.bert.tokenization_bert_fast import BertTokenizerFast\n"
   ]
  },
  {
   "cell_type": "markdown",
   "metadata": {},
   "source": [
    "# Introduction\n",
    "\n",
    "In order to create a custom text embedding service, we need to create a Docker image and deploy it. Between build and deploy, we'll also cover how to test locally to speed up the develoment cycle."
   ]
  },
  {
   "cell_type": "markdown",
   "metadata": {},
   "source": [
    "# Building\n",
    "\n",
    "In order to build an image for our custom service, we put custom data (a `data/` directory) and logic (an `embed.py`, plus a `requirements.txt` specifying any dependencies) into the `build/` directory, and then we use the `buildlib` to run the build process (`buildlib.build()`)."
   ]
  },
  {
   "cell_type": "markdown",
   "metadata": {},
   "source": [
    "## Clear out `build/`\n",
    "\n",
    "Let's start with a clean slate by deleting and recreating an empty `build/`."
   ]
  },
  {
   "cell_type": "code",
   "execution_count": 3,
   "metadata": {},
   "outputs": [],
   "source": [
    "BUILD_DIR = Path(\".\").resolve().parents[1] / \"build\"\n",
    "shutil.rmtree(BUILD_DIR)\n",
    "BUILD_DIR.mkdir()"
   ]
  },
  {
   "cell_type": "markdown",
   "metadata": {},
   "source": [
    "## Prepare the data\n",
    "\n",
    "For this example, we will use the [`e5-base-v2`](https://huggingface.co/intfloat/e5-base-v2) model from Microsoft. We'll demonstrate how to preload the model weights directly into our Docker image for simpler deployment.\n",
    "\n",
    "Rather than just using the [`transformers`](https://pypi.org/project/transformers/) library directly, we'll also demonstrate how to include a custom library into the Docker image by building a [pure Python wheel](https://packaging.python.org/en/latest/guides/distributing-packages-using-setuptools/#pure-python-wheels) and including that in the `data/` alongside the model weights. The library we demonstrate on is `embed_lib/`, a small example library we wrote to call the E5 model via `transformers`."
   ]
  },
  {
   "cell_type": "markdown",
   "metadata": {},
   "source": [
    "### Put model weights into `build/data/`"
   ]
  },
  {
   "cell_type": "code",
   "execution_count": 4,
   "metadata": {},
   "outputs": [
    {
     "name": "stdout",
     "output_type": "stream",
     "text": [
      "Downloading intfloat/e5-base-v2 and saving tokenizer and weights to /home/lmerrick/Code/embed_text_container_service/build/data\n"
     ]
    }
   ],
   "source": [
    "# Downloading the model weights.\n",
    "MODEL_NAME = \"intfloat/e5-base-v2\"\n",
    "DATA_DIR = BUILD_DIR / \"data\"\n",
    "TOKENISER_DIR = DATA_DIR / \"tokenizer\"\n",
    "MODEL_DIR = DATA_DIR / \"model\"\n",
    "\n",
    "print(f\"Downloading {MODEL_NAME} and saving tokenizer and weights to {DATA_DIR}\")\n",
    "\n",
    "tokenizer = BertTokenizerFast.from_pretrained(MODEL_NAME)\n",
    "model = BertModel.from_pretrained(MODEL_NAME)\n",
    "assert isinstance(model, BertModel)  # This is for typechecking.\n",
    "tokenizer.save_pretrained(TOKENISER_DIR)\n",
    "model.save_pretrained(MODEL_DIR)\n",
    "\n",
    "# Validate that our saved files work by loading from them.\n",
    "tokenizer = BertTokenizerFast.from_pretrained(TOKENISER_DIR)\n",
    "model = BertModel.from_pretrained(MODEL_DIR)"
   ]
  },
  {
   "cell_type": "markdown",
   "metadata": {},
   "source": [
    "### Put packaged code into `build/data/`"
   ]
  },
  {
   "cell_type": "code",
   "execution_count": 5,
   "metadata": {},
   "outputs": [
    {
     "name": "stdout",
     "output_type": "stream",
     "text": [
      "running bdist_wheel\n",
      "running build\n",
      "running build_py\n",
      "running egg_info\n",
      "writing src/embed_lib.egg-info/PKG-INFO\n",
      "writing dependency_links to src/embed_lib.egg-info/dependency_links.txt\n",
      "writing requirements to src/embed_lib.egg-info/requires.txt\n",
      "writing top-level names to src/embed_lib.egg-info/top_level.txt\n",
      "reading manifest file 'src/embed_lib.egg-info/SOURCES.txt'\n",
      "writing manifest file 'src/embed_lib.egg-info/SOURCES.txt'\n",
      "installing to build/bdist.linux-aarch64/wheel\n",
      "running install\n",
      "running install_lib\n",
      "creating build/bdist.linux-aarch64/wheel\n",
      "creating build/bdist.linux-aarch64/wheel/embed_lib\n",
      "copying build/lib/embed_lib/_batch_iter_util.py -> build/bdist.linux-aarch64/wheel/embed_lib\n",
      "copying build/lib/embed_lib/__init__.py -> build/bdist.linux-aarch64/wheel/embed_lib\n",
      "copying build/lib/embed_lib/e5.py -> build/bdist.linux-aarch64/wheel/embed_lib\n",
      "running install_egg_info\n",
      "Copying src/embed_lib.egg-info to build/bdist.linux-aarch64/wheel/embed_lib-1.0.0-py3.8.egg-info\n",
      "running install_scripts\n",
      "creating build/bdist.linux-aarch64/wheel/embed_lib-1.0.0.dist-info/WHEEL\n",
      "creating '/home/lmerrick/Code/embed_text_container_service/build/data/.tmp-mty1levb/embed_lib-1.0.0-py3-none-any.whl' and adding 'build/bdist.linux-aarch64/wheel' to it\n",
      "adding 'embed_lib/__init__.py'\n",
      "adding 'embed_lib/_batch_iter_util.py'\n",
      "adding 'embed_lib/e5.py'\n",
      "adding 'embed_lib-1.0.0.dist-info/METADATA'\n",
      "adding 'embed_lib-1.0.0.dist-info/WHEEL'\n",
      "adding 'embed_lib-1.0.0.dist-info/top_level.txt'\n",
      "adding 'embed_lib-1.0.0.dist-info/RECORD'\n",
      "removing build/bdist.linux-aarch64/wheel\n",
      "Built /home/lmerrick/Code/embed_text_container_service/build/data/embed_lib-1.0.0-py3-none-any.whl\n"
     ]
    }
   ],
   "source": [
    "# Package our Python package into a wheel in the `data/` directory.\n",
    "wheel_filename = ProjectBuilder(Path(\"\") / \"embed_lib\").build(\n",
    "    distribution=\"wheel\", output_directory=DATA_DIR\n",
    ")\n",
    "print(f\"Built {wheel_filename}\")"
   ]
  },
  {
   "cell_type": "markdown",
   "metadata": {},
   "source": [
    "## Prepare the logic\n",
    "\n",
    "In order to actually use our custom package, load our model weights, and perform text embedding, we need to implement the core logic of text embedding. This is done by implementing `get_embed_fn()` inside a file called `embed.py`. The function `get_embed_fn` should load model weights and return a function that maps a single input consisting of a `Sequence[str]` into a single 2d `numpy` array of datatype `np.float32`. Below we give an example."
   ]
  },
  {
   "cell_type": "markdown",
   "metadata": {},
   "source": [
    "### Implement `get_embed_fn` inside `build/embed.py`"
   ]
  },
  {
   "cell_type": "code",
   "execution_count": 6,
   "metadata": {},
   "outputs": [
    {
     "name": "stdout",
     "output_type": "stream",
     "text": [
      "Writing ../../build/embed.py\n"
     ]
    }
   ],
   "source": [
    "%%writefile ../../build/embed.py\n",
    "import logging\n",
    "from typing import Callable\n",
    "from typing import cast\n",
    "from typing import Sequence\n",
    "\n",
    "import embed_lib.e5\n",
    "import numpy as np\n",
    "from transformers.models.bert.modeling_bert import BertModel\n",
    "from transformers.models.bert.tokenization_bert_fast import BertTokenizerFast\n",
    "\n",
    "MAX_BATCH_SIZE = 4\n",
    "\n",
    "\n",
    "def get_embed_fn(logger: logging.Logger) -> Callable[[Sequence[str]], np.ndarray]:\n",
    "    # Load the model into memory.\n",
    "    logger.info(\"[get_embed_fn]Loading model from disk to memory\")\n",
    "    tokenizer = BertTokenizerFast.from_pretrained(\n",
    "        \"/root/data/tokenizer\", local_files_only=True\n",
    "    )\n",
    "    model = cast(\n",
    "        BertModel, BertModel.from_pretrained(\"/root/data/model\", local_files_only=True)\n",
    "    )\n",
    "    e5_model = embed_lib.e5.E5Model(tokenizer, model)\n",
    "\n",
    "    def _embed(texts: Sequence[str]) -> np.ndarray:\n",
    "        result_tensor = embed_lib.e5.embed(\n",
    "            e5_model=e5_model,\n",
    "            texts=texts,\n",
    "            batch_size=MAX_BATCH_SIZE,\n",
    "            normalize=True,\n",
    "            progress_bar=False,\n",
    "        )\n",
    "        result_array = result_tensor.numpy().astype(np.float32)\n",
    "        return result_array\n",
    "\n",
    "    return _embed"
   ]
  },
  {
   "cell_type": "markdown",
   "metadata": {},
   "source": [
    "### Add a `build/requirements.txt`\n",
    "\n",
    "We also need to specify the requirements for our embedding logic. During the build, we will populate the `BUILD_ROOT` environment variable, which enables you to include custom packages (like your `embed_lib` wheel) in your `requirements.txt` by absolute filepath."
   ]
  },
  {
   "cell_type": "code",
   "execution_count": 7,
   "metadata": {},
   "outputs": [
    {
     "name": "stdout",
     "output_type": "stream",
     "text": [
      "Writing ../../build/requirements.txt\n"
     ]
    }
   ],
   "source": [
    "%%writefile ../../build/requirements.txt\n",
    "\n",
    "${BUILD_ROOT}/data/embed_lib-1.0.0-py3-none-any.whl"
   ]
  },
  {
   "cell_type": "markdown",
   "metadata": {},
   "source": [
    "## Configure"
   ]
  },
  {
   "cell_type": "code",
   "execution_count": 8,
   "metadata": {},
   "outputs": [
    {
     "name": "stdout",
     "output_type": "stream",
     "text": [
      "Writing ../../build/config.py\n"
     ]
    }
   ],
   "source": [
    "%%writefile ../../build/config.py\n",
    "from service_config import Configuration\n",
    "\n",
    "USER_CONFIG = Configuration(embedding_dim=768, max_batch_size=6)\n"
   ]
  },
  {
   "cell_type": "markdown",
   "metadata": {},
   "source": [
    "## Build!\n",
    "\n",
    "Now that all the pieces are in place inside `build/`, we can trigger a build via `buildlib`."
   ]
  },
  {
   "cell_type": "code",
   "execution_count": 9,
   "metadata": {},
   "outputs": [
    {
     "data": {
      "text/plain": [
       "[PosixPath('/home/lmerrick/Code/embed_text_container_service/build/requirements.txt'),\n",
       " PosixPath('/home/lmerrick/Code/embed_text_container_service/build/embed.py'),\n",
       " PosixPath('/home/lmerrick/Code/embed_text_container_service/build/config.py'),\n",
       " PosixPath('/home/lmerrick/Code/embed_text_container_service/build/data'),\n",
       " PosixPath('/home/lmerrick/Code/embed_text_container_service/build/data/embed_lib-1.0.0-py3-none-any.whl'),\n",
       " PosixPath('/home/lmerrick/Code/embed_text_container_service/build/data/model'),\n",
       " PosixPath('/home/lmerrick/Code/embed_text_container_service/build/data/tokenizer')]"
      ]
     },
     "execution_count": 9,
     "metadata": {},
     "output_type": "execute_result"
    }
   ],
   "source": [
    "# We now have all the pieces we need to build our service!\n",
    "list(BUILD_DIR.iterdir()) + list(DATA_DIR.iterdir())"
   ]
  },
  {
   "cell_type": "code",
   "execution_count": 11,
   "metadata": {},
   "outputs": [
    {
     "name": "stdout",
     "output_type": "stream",
     "text": [
      "#0 building with \"default\" instance using docker driver\n",
      "\n",
      "#1 [internal] load .dockerignore\n",
      "#1 transferring context: 2B done\n",
      "#1 DONE 0.0s\n",
      "\n",
      "#2 [internal] load build definition from Dockerfile\n",
      "#2 transferring dockerfile: 1.72kB done\n",
      "#2 DONE 0.0s\n",
      "\n",
      "#3 [internal] load metadata for docker.io/library/python:3.8.16-bullseye\n",
      "#3 DONE 0.8s\n",
      "\n",
      "#4 [ 1/11] FROM docker.io/library/python:3.8.16-bullseye@sha256:e411647c253b75948394a343b13ff32b5674687df0c54187445d12ee9de2b106\n",
      "#4 DONE 0.0s\n",
      "\n",
      "#5 [internal] load build context\n",
      "#5 transferring context: 439.07MB 1.3s done\n",
      "#5 DONE 1.3s\n",
      "\n",
      "#6 [ 2/11] WORKDIR /root\n",
      "#6 CACHED\n",
      "\n",
      "#7 [ 3/11] COPY ./libs ./libs\n",
      "#7 CACHED\n",
      "\n",
      "#8 [ 4/11] COPY ./service_api ./service_api\n",
      "#8 CACHED\n",
      "\n",
      "#9 [ 5/11] COPY ./service_embed_loop ./service_embed_loop\n",
      "#9 CACHED\n",
      "\n",
      "#10 [ 6/11] COPY ./services_common_code ./services_common_code\n",
      "#10 CACHED\n",
      "\n",
      "#11 [ 7/11] RUN python -m venv --copies --prompt api create venv_api     && python -m venv --copies --prompt embed_loop create venv_embed_loop     && ./venv_api/bin/python -m pip install -r ./services_common_code/requirements.txt     && ./venv_api/bin/python -m pip install -r ./service_api/requirements.txt     && ./venv_embed_loop/bin/python -m pip install -r ./services_common_code/requirements.txt     && ./venv_embed_loop/bin/python -m pip install -r ./service_embed_loop/requirements.txt\n",
      "#11 CACHED\n",
      "\n",
      "#12 [ 8/11] COPY ./build ./build\n",
      "#12 DONE 1.1s\n",
      "\n",
      "#13 [ 9/11] RUN     mv ./build/data ./data     && mv ./build/config.py ./services_common_code/config.py     && mv ./build/embed.py ./service_embed_loop/embed.py\n",
      "#13 DONE 1.0s\n",
      "\n",
      "#14 [10/11] RUN ./venv_embed_loop/bin/python -m pip install -r ./build/requirements.txt\n",
      "#14 0.681 Processing ./data/embed_lib-1.0.0-py3-none-any.whl\n",
      "#14 0.688 Requirement already satisfied: numpy==1.24.2 in ./venv_embed_loop/lib/python3.8/site-packages (from embed-lib==1.0.0->-r ./build/requirements.txt (line 2)) (1.24.2)\n",
      "#14 0.869 Collecting torch==2.0.1\n",
      "#14 1.025   Downloading torch-2.0.1-cp38-cp38-manylinux2014_aarch64.whl (74.0 MB)\n",
      "#14 12.47      ━━━━━━━━━━━━━━━━━━━━━━━━━━━━━━━━━━━━━━━━ 74.0/74.0 MB 6.4 MB/s eta 0:00:00\n",
      "#14 12.63 Collecting transformers==4.30.1\n",
      "#14 12.68   Downloading transformers-4.30.1-py3-none-any.whl (7.2 MB)\n",
      "#14 13.82      ━━━━━━━━━━━━━━━━━━━━━━━━━━━━━━━━━━━━━━━━ 7.2/7.2 MB 6.3 MB/s eta 0:00:00\n",
      "#14 13.90 Collecting tqdm==4.65.0\n",
      "#14 13.94   Downloading tqdm-4.65.0-py3-none-any.whl (77 kB)\n",
      "#14 13.95      ━━━━━━━━━━━━━━━━━━━━━━━━━━━━━━━━━━━━━━━━ 77.1/77.1 KB 5.9 MB/s eta 0:00:00\n",
      "#14 14.00 Collecting filelock\n",
      "#14 14.03   Downloading filelock-3.12.4-py3-none-any.whl (11 kB)\n",
      "#14 14.08 Collecting jinja2\n",
      "#14 14.11   Downloading Jinja2-3.1.2-py3-none-any.whl (133 kB)\n",
      "#14 14.13      ━━━━━━━━━━━━━━━━━━━━━━━━━━━━━━━━━━━━━━━ 133.1/133.1 KB 6.3 MB/s eta 0:00:00\n",
      "#14 14.18 Collecting sympy\n",
      "#14 14.21   Downloading sympy-1.12-py3-none-any.whl (5.7 MB)\n",
      "#14 15.07      ━━━━━━━━━━━━━━━━━━━━━━━━━━━━━━━━━━━━━━━━ 5.7/5.7 MB 6.7 MB/s eta 0:00:00\n",
      "#14 15.13 Collecting networkx\n",
      "#14 15.17   Downloading networkx-3.1-py3-none-any.whl (2.1 MB)\n",
      "#14 15.47      ━━━━━━━━━━━━━━━━━━━━━━━━━━━━━━━━━━━━━━━━ 2.1/2.1 MB 6.8 MB/s eta 0:00:00\n",
      "#14 15.51 Collecting typing-extensions\n",
      "#14 15.52   Using cached typing_extensions-4.8.0-py3-none-any.whl (31 kB)\n",
      "#14 15.78 Collecting packaging>=20.0\n",
      "#14 15.82   Downloading packaging-23.2-py3-none-any.whl (53 kB)\n",
      "#14 15.83      ━━━━━━━━━━━━━━━━━━━━━━━━━━━━━━━━━━━━━━━━ 53.0/53.0 KB 6.8 MB/s eta 0:00:00\n",
      "#14 16.33 Collecting regex!=2019.12.17\n",
      "#14 16.37   Downloading regex-2023.10.3-cp38-cp38-manylinux_2_17_aarch64.manylinux2014_aarch64.whl (776 kB)\n",
      "#14 16.50      ━━━━━━━━━━━━━━━━━━━━━━━━━━━━━━━━━━━━━━━ 776.8/776.8 KB 6.3 MB/s eta 0:00:00\n",
      "#14 16.58 Collecting pyyaml>=5.1\n",
      "#14 16.62   Downloading PyYAML-6.0.1-cp38-cp38-manylinux_2_17_aarch64.manylinux2014_aarch64.whl (723 kB)\n",
      "#14 16.75      ━━━━━━━━━━━━━━━━━━━━━━━━━━━━━━━━━━━━━━━ 723.8/723.8 KB 5.6 MB/s eta 0:00:00\n",
      "#14 16.85 Collecting safetensors>=0.3.1\n",
      "#14 16.89   Downloading safetensors-0.3.3-cp38-cp38-manylinux_2_17_aarch64.manylinux2014_aarch64.whl (1.3 MB)\n",
      "#14 17.13      ━━━━━━━━━━━━━━━━━━━━━━━━━━━━━━━━━━━━━━━━ 1.3/1.3 MB 5.6 MB/s eta 0:00:00\n",
      "#14 17.19 Collecting huggingface-hub<1.0,>=0.14.1\n",
      "#14 17.22   Downloading huggingface_hub-0.17.3-py3-none-any.whl (295 kB)\n",
      "#14 17.27      ━━━━━━━━━━━━━━━━━━━━━━━━━━━━━━━━━━━━━━━ 295.0/295.0 KB 6.1 MB/s eta 0:00:00\n",
      "#14 17.47 Collecting tokenizers!=0.11.3,<0.14,>=0.11.1\n",
      "#14 17.51   Downloading tokenizers-0.13.3-cp38-cp38-manylinux_2_17_aarch64.manylinux2014_aarch64.whl (7.5 MB)\n",
      "#14 18.74      ━━━━━━━━━━━━━━━━━━━━━━━━━━━━━━━━━━━━━━━━ 7.5/7.5 MB 6.1 MB/s eta 0:00:00\n",
      "#14 18.82 Collecting requests\n",
      "#14 18.85   Downloading requests-2.31.0-py3-none-any.whl (62 kB)\n",
      "#14 18.87      ━━━━━━━━━━━━━━━━━━━━━━━━━━━━━━━━━━━━━━━━ 62.6/62.6 KB 6.4 MB/s eta 0:00:00\n",
      "#14 18.97 Collecting fsspec\n",
      "#14 19.01   Downloading fsspec-2023.9.2-py3-none-any.whl (173 kB)\n",
      "#14 19.03      ━━━━━━━━━━━━━━━━━━━━━━━━━━━━━━━━━━━━━━━ 173.4/173.4 KB 6.7 MB/s eta 0:00:00\n",
      "#14 19.18 Collecting MarkupSafe>=2.0\n",
      "#14 19.22   Downloading MarkupSafe-2.1.3-cp38-cp38-manylinux_2_17_aarch64.manylinux2014_aarch64.whl (26 kB)\n",
      "#14 19.37 Collecting charset-normalizer<4,>=2\n",
      "#14 19.41   Downloading charset_normalizer-3.3.0-cp38-cp38-manylinux_2_17_aarch64.manylinux2014_aarch64.whl (134 kB)\n",
      "#14 19.43      ━━━━━━━━━━━━━━━━━━━━━━━━━━━━━━━━━━━━━━━ 134.7/134.7 KB 6.3 MB/s eta 0:00:00\n",
      "#14 19.48 Collecting certifi>=2017.4.17\n",
      "#14 19.48   Using cached certifi-2023.7.22-py3-none-any.whl (158 kB)\n",
      "#14 19.52 Collecting idna<4,>=2.5\n",
      "#14 19.52   Using cached idna-3.4-py3-none-any.whl (61 kB)\n",
      "#14 19.58 Collecting urllib3<3,>=1.21.1\n",
      "#14 19.62   Downloading urllib3-2.0.6-py3-none-any.whl (123 kB)\n",
      "#14 19.64      ━━━━━━━━━━━━━━━━━━━━━━━━━━━━━━━━━━━━━━━ 123.8/123.8 KB 6.6 MB/s eta 0:00:00\n",
      "#14 19.68 Collecting mpmath>=0.19\n",
      "#14 19.72   Downloading mpmath-1.3.0-py3-none-any.whl (536 kB)\n",
      "#14 19.80      ━━━━━━━━━━━━━━━━━━━━━━━━━━━━━━━━━━━━━━━ 536.2/536.2 KB 6.2 MB/s eta 0:00:00\n",
      "#14 20.28 Installing collected packages: tokenizers, safetensors, mpmath, urllib3, typing-extensions, tqdm, sympy, regex, pyyaml, packaging, networkx, MarkupSafe, idna, fsspec, filelock, charset-normalizer, certifi, requests, jinja2, torch, huggingface-hub, transformers, embed-lib\n",
      "#14 30.45 Successfully installed MarkupSafe-2.1.3 certifi-2023.7.22 charset-normalizer-3.3.0 embed-lib-1.0.0 filelock-3.12.4 fsspec-2023.9.2 huggingface-hub-0.17.3 idna-3.4 jinja2-3.1.2 mpmath-1.3.0 networkx-3.1 packaging-23.2 pyyaml-6.0.1 regex-2023.10.3 requests-2.31.0 safetensors-0.3.3 sympy-1.12 tokenizers-0.13.3 torch-2.0.1 tqdm-4.65.0 transformers-4.30.1 typing-extensions-4.8.0 urllib3-2.0.6\n",
      "#14 30.45 WARNING: You are using pip version 22.0.4; however, version 23.2.1 is available.\n",
      "#14 30.45 You should consider upgrading via the '/root/venv_embed_loop/bin/python -m pip install --upgrade pip' command.\n",
      "#14 DONE 31.0s\n",
      "\n",
      "#15 [11/11] COPY ./build/embed.py ./service_embed_loop/embed.py\n",
      "#15 DONE 0.0s\n",
      "\n",
      "#16 exporting to image\n",
      "#16 exporting layers\n",
      "#16 exporting layers 1.7s done\n",
      "#16 writing image sha256:85676bcd9fef6bfe08f4b02f8b2a8dc42c9d5fa2ab9832b1ce6cdfb9671a53b1 done\n",
      "#16 naming to docker.io/library/embed_text_service:latest_arm64 done\n",
      "#16 DONE 1.7s\n"
     ]
    }
   ],
   "source": [
    "# If you are building on a Mac with an arm CPU, you may want to build natively\n",
    "# for local testing (e.g. perf tests will look really slow otherwise), but remember\n",
    "# to rebuild to amd64 CPU architecture below before deploying.\n",
    "buildlib.build(build_dir=BUILD_DIR, platform=\"linux/arm64\", tag=\"latest_arm64\")\n",
    "\n",
    "# buildlib.build(build_dir=BUILD_DIR, platform=\"linux/amd64\", tag=\"latest\")"
   ]
  },
  {
   "cell_type": "markdown",
   "metadata": {},
   "source": [
    "# Test locally"
   ]
  },
  {
   "cell_type": "code",
   "execution_count": 12,
   "metadata": {},
   "outputs": [
    {
     "name": "stdout",
     "output_type": "stream",
     "text": [
      "\u001b[1m============================= test session starts ==============================\u001b[0m\n",
      "platform linux -- Python 3.8.18, pytest-7.4.2, pluggy-1.3.0\n",
      "rootdir: /home/lmerrick/Code/embed_text_container_service\n",
      "plugins: anyio-3.6.2\n",
      "collected 1 item\n",
      "\n",
      "../../testing/tests/test_end_to_end.py \u001b[32m.\u001b[0m\u001b[32m                                 [100%]\u001b[0m\n",
      "\n",
      "\u001b[32m============================== \u001b[32m\u001b[1m1 passed\u001b[0m\u001b[32m in 0.82s\u001b[0m\u001b[32m ===============================\u001b[0m\n"
     ]
    }
   ],
   "source": [
    "test_path = BUILD_DIR.parent / \"testing\" / \"tests\" / \"test_end_to_end.py\"\n",
    "# with buildlib.run_container_context(tag=\"latest_arm64\"):  # NOTE: You can specify the tag.\n",
    "with buildlib.run_container_context():\n",
    "    pytest.main([str(test_path)])"
   ]
  },
  {
   "cell_type": "markdown",
   "metadata": {},
   "source": [
    "# Deploy\n",
    "\n",
    "Now that we have build our image and made sure it passes local tests, we can deploy our service."
   ]
  },
  {
   "cell_type": "code",
   "execution_count": 13,
   "metadata": {},
   "outputs": [],
   "source": [
    "# TODO : Fill in this section."
   ]
  }
 ],
 "metadata": {
  "kernelspec": {
   "display_name": "embed-standalone",
   "language": "python",
   "name": "python3"
  },
  "language_info": {
   "codemirror_mode": {
    "name": "ipython",
    "version": 3
   },
   "file_extension": ".py",
   "mimetype": "text/x-python",
   "name": "python",
   "nbconvert_exporter": "python",
   "pygments_lexer": "ipython3",
   "version": "3.8.18"
  },
  "orig_nbformat": 4
 },
 "nbformat": 4,
 "nbformat_minor": 2
}
